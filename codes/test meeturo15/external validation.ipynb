{
 "cells": [
  {
   "cell_type": "code",
   "execution_count": null,
   "id": "7a02ad9e",
   "metadata": {},
   "outputs": [],
   "source": [
    "import sys\n",
    "import numpy as np\n",
    "import pandas as pd\n",
    "import seaborn as sns\n",
    "import matplotlib.pyplot as plt\n",
    "import math\n",
    "#import scikitplot as skplt\n",
    "\n",
    "from sklearn.metrics import accuracy_score, f1_score, roc_curve, roc_auc_score, balanced_accuracy_score\n",
    "from sklearn.model_selection import train_test_split, GridSearchCV, cross_val_score, cross_val_predict\n",
    "from sklearn.metrics import classification_report,confusion_matrix\n",
    "\n",
    "from sklearn.utils.class_weight import compute_sample_weight"
   ]
  },
  {
   "cell_type": "code",
   "execution_count": null,
   "id": "1e5dc7b2",
   "metadata": {},
   "outputs": [],
   "source": [
    "from sklearn.model_selection import StratifiedKFold\n",
    "\n",
    "from sklearn.tree import DecisionTreeClassifier\n",
    "from sklearn.neighbors import KNeighborsClassifier\n",
    "from sklearn.linear_model import LogisticRegression\n",
    "from sklearn.svm import SVC\n",
    "from sklearn.neural_network import MLPClassifier\n",
    "from sklearn.ensemble import RandomForestClassifier\n",
    "from sklearn.ensemble import AdaBoostClassifier\n",
    "from sklearn.ensemble import ExtraTreesClassifier\n",
    "from xgboost import XGBClassifier\n",
    "from lightgbm import LGBMClassifier\n",
    "from sklearn.svm import SVC\n",
    "from sklearn import metrics\n",
    "\n",
    "from sklearn.model_selection import GridSearchCV\n",
    "\n",
    "\n",
    "\n",
    "from sksurv.linear_model import CoxPHSurvivalAnalysis\n",
    "from sksurv.linear_model import CoxnetSurvivalAnalysis\n",
    "from sksurv.metrics import concordance_index_censored, cumulative_dynamic_auc, concordance_index_ipcw, integrated_brier_score\n",
    "from sksurv.ensemble import RandomSurvivalForest, ExtraSurvivalTrees\n",
    "from sksurv.ensemble import GradientBoostingSurvivalAnalysis\n",
    "from sksurv.svm import FastKernelSurvivalSVM\n",
    "from sksurv.nonparametric import kaplan_meier_estimator\n"
   ]
  },
  {
   "cell_type": "code",
   "execution_count": null,
   "id": "0f82d693",
   "metadata": {},
   "outputs": [],
   "source": [
    "X_DCR = pd.read_csv('data/classification/DCR/X_test.csv', index_col=0)\n",
    "y_DCR = pd.read_csv('data/classification/DCR/y_test.csv', index_col=0)\n",
    "\n",
    "\n",
    "X_OS = pd.read_csv('data/survival/OS/X_test.csv', index_col=0)\n",
    "y_OS = pd.read_csv('data/survival/OS/y_test.csv', index_col=0)\n",
    "y_tr_OS = pd.read_csv('data/survival/OS/y_train.csv', index_col=0)\n",
    "\n",
    "X_PFS = pd.read_csv('data/survival/PFS/X_test.csv', index_col=0)\n",
    "y_PFS = pd.read_csv('data/survival/PFS/y_test.csv', index_col=0)\n",
    "y_tr_PFS = pd.read_csv('data/survival/PFS/y_train.csv', index_col=0)\n",
    "\n",
    "\n",
    "# values of the event must be boolean\n",
    "y_OS['STATUS OS']=y_OS['STATUS OS'].astype(bool)\n",
    "y_PFS['STATUS PD']=y_PFS['STATUS PD'].astype(bool)\n",
    "y_tr_OS['STATUS OS']=y_tr_OS['STATUS OS'].astype(bool)\n",
    "y_tr_PFS['STATUS PD']=y_tr_PFS['STATUS PD'].astype(bool)\n",
    "# targets must be an array (not a dataframe)\n",
    "y_tr_OS=y_tr_OS.to_records(index=False)\n",
    "y_tr_PFS=y_tr_PFS.to_records(index=False)\n",
    "y_OS=y_OS.to_records(index=False)\n",
    "y_PFS=y_PFS.to_records(index=False)\n",
    "\n",
    "from sklearn.model_selection import StratifiedKFold\n",
    "cv = StratifiedKFold(n_splits=10)\n"
   ]
  },
  {
   "cell_type": "code",
   "execution_count": null,
   "id": "35fbeb4f",
   "metadata": {},
   "outputs": [],
   "source": [
    "names_c = ['XGB', 'LR', 'RF', 'MLP','SVM','AB','ET','LGBM']\n",
    "names_s = ['CPH','RSF','GB','SSVM','EST']"
   ]
  },
  {
   "cell_type": "code",
   "execution_count": null,
   "id": "0c6edcb6",
   "metadata": {},
   "outputs": [],
   "source": [
    "outcome = 'DCR'"
   ]
  },
  {
   "cell_type": "markdown",
   "id": "2f231b99",
   "metadata": {},
   "source": [
    "# <br><br> CLASSIFICATION"
   ]
  },
  {
   "cell_type": "code",
   "execution_count": null,
   "id": "7f093064",
   "metadata": {},
   "outputs": [],
   "source": [
    "sw = compute_sample_weight(class_weight='balanced', y=y_DCR)\n",
    "selection = 'RFE'"
   ]
  },
  {
   "cell_type": "code",
   "execution_count": null,
   "id": "07d30dd1",
   "metadata": {},
   "outputs": [],
   "source": [
    "## SAVE MODELS\n",
    "import pickle\n",
    "name = names_c[2]\n",
    "model_path = 'results/classification/{o}/{fs}/MODELS/{mn}.pkl'.format(o = outcome, fs = selection, mn = name)\n",
    "mod = pickle.load(open(model_path, 'rb'))\n",
    "mod"
   ]
  },
  {
   "cell_type": "code",
   "execution_count": null,
   "id": "35fcfeca",
   "metadata": {},
   "outputs": [],
   "source": [
    "# TEST ON EXTERNAL VALIDATION SET\n",
    "y_pred = mod.predict(X_DCR[mod.feature_names_in_])\n",
    "F1 = f1_score(y_DCR, y_pred, average=\"weighted\", sample_weight=sw)\n",
    "ACC = balanced_accuracy_score(y_DCR, y_pred, sample_weight=sw)\n",
    "print(F1)\n",
    "print(ACC)"
   ]
  },
  {
   "cell_type": "code",
   "execution_count": null,
   "id": "352bcf84",
   "metadata": {},
   "outputs": [],
   "source": [
    "# CLASSIFICATION REPORT\n",
    "rep = classification_report(y_DCR, y_pred, output_dict=True,sample_weight=sw)\n",
    "print(classification_report(y_DCR, y_pred, sample_weight=sw))\n",
    "rep = pd.DataFrame(rep).transpose()\n",
    "path='results\\classification\\external\\Report_{m}_{fs}.xlsx'.format(o=outcome, m=names_c[2], fs=selection);\n",
    "rep.to_excel(path)"
   ]
  },
  {
   "cell_type": "code",
   "execution_count": null,
   "id": "96157c68",
   "metadata": {},
   "outputs": [],
   "source": [
    "# CONFUSION MATRIX\n",
    "sns_plot=sns.heatmap(confusion_matrix(y_DCR, y_pred), annot=True, fmt='d', cmap=\"Blues\"); #annot=True to annotate cells fmt: format\n",
    "sns_plot.set_title(\"Confusion Matrix of \"+names_c[2])\n",
    "fig = sns_plot.get_figure()\n",
    "path='results\\classification\\external\\Matrix_{m}_{fs}.png'.format(o=outcome, m=names_c[2], fs=selection);\n",
    "fig.savefig(path,format=\"png\")"
   ]
  },
  {
   "cell_type": "code",
   "execution_count": null,
   "id": "8fa73079",
   "metadata": {},
   "outputs": [],
   "source": [
    "# ROC CURVE\n",
    "y_probs = mod.predict_proba(X_DCR[mod.feature_names_in_])\n",
    "AUC = roc_auc_score(y_DCR, y_probs[:,1])\n",
    "    \n",
    "plt.figure()\n",
    "fpr, tpr, thresholds=roc_curve(y_DCR,  y_probs[:,1])\n",
    "plt.plot(fpr, tpr, label='AUC = %.2f '%AUC)\n",
    "plt.plot([0, 1], [0, 1], color='darkblue', linestyle='--')\n",
    "plt.xlabel('False Positive Rate')\n",
    "plt.ylabel('True Positive Rate')\n",
    "plt.title('ROC Curve of '+names_c[2])\n",
    "plt.legend(loc=\"lower right\")\n",
    "path='results\\classification\\external\\ROC_{m}_{fs}.png'.format(o=outcome, m=names_c[2], fs=selection);\n",
    "plt.savefig(path,format=\"png\")"
   ]
  },
  {
   "cell_type": "code",
   "execution_count": null,
   "id": "5d981d39",
   "metadata": {},
   "outputs": [],
   "source": []
  },
  {
   "cell_type": "markdown",
   "id": "9c34dcf2",
   "metadata": {},
   "source": [
    "## <br><br> OS"
   ]
  },
  {
   "cell_type": "code",
   "execution_count": null,
   "id": "52d10127",
   "metadata": {},
   "outputs": [],
   "source": [
    "import pickle\n",
    "path = 'results/survival/OS/MODELS(ALL)/EST.pkl'   # EST-ALL\n",
    "\n",
    "m1 = pickle.load(open(path, 'rb'))"
   ]
  },
  {
   "cell_type": "code",
   "execution_count": null,
   "id": "d7744ddd",
   "metadata": {},
   "outputs": [],
   "source": [
    "# C-index\n",
    "ci = concordance_index_censored(y_OS[\"STATUS OS\"], y_OS[\"OS\"], m1.predict(X_OS[m1.feature_names_in_]))\n",
    "print(ci[0])"
   ]
  },
  {
   "cell_type": "code",
   "execution_count": null,
   "id": "9375465f",
   "metadata": {},
   "outputs": [],
   "source": [
    "time = np.linspace(min(y_OS['OS']),max(y_OS['OS'])-0.001,30)"
   ]
  },
  {
   "cell_type": "code",
   "execution_count": null,
   "id": "05f9042b",
   "metadata": {},
   "outputs": [],
   "source": [
    "# Average A-AUC\n",
    "risk_scores=m1.predict(X_OS[m1.feature_names_in_])\n",
    "auc, mean_auc = cumulative_dynamic_auc(\n",
    "    y_tr_OS, y_OS, risk_scores, time\n",
    ")\n",
    "\n",
    "print(mean_auc)"
   ]
  },
  {
   "cell_type": "code",
   "execution_count": null,
   "id": "5d552433",
   "metadata": {},
   "outputs": [],
   "source": []
  },
  {
   "cell_type": "markdown",
   "id": "fc230fce",
   "metadata": {},
   "source": [
    "## PFS"
   ]
  },
  {
   "cell_type": "code",
   "execution_count": null,
   "id": "c10dc192",
   "metadata": {},
   "outputs": [],
   "source": [
    "import pickle\n",
    "path = 'results/survival/PFS/MODELS(ALL)/GB.pkl'\n",
    "\n",
    "m1 = pickle.load(open(path, 'rb'))"
   ]
  },
  {
   "cell_type": "code",
   "execution_count": null,
   "id": "689d55d8",
   "metadata": {},
   "outputs": [],
   "source": [
    "# C-index\n",
    "ci = concordance_index_censored(y_PFS[\"STATUS PD\"], y_PFS[\"PFS\"], m1.predict(X_PFS[m1.feature_names_in_]))\n",
    "print(ci[0])"
   ]
  },
  {
   "cell_type": "code",
   "execution_count": null,
   "id": "d7fbcbf1",
   "metadata": {},
   "outputs": [],
   "source": [
    "y_tr_PFS = pd.read_csv('data/survival/PFS/y_train.csv', index_col=0) \n",
    "y_tr_PFS['STATUS PD']=y_tr_PFS['STATUS PD'].astype(bool)\n",
    "# targets must be an array (not a dataframe)\n",
    "y_tr_PFS=y_tr_PFS.to_records(index=False)\n"
   ]
  },
  {
   "cell_type": "code",
   "execution_count": null,
   "id": "44de78e5",
   "metadata": {},
   "outputs": [],
   "source": [
    "time = np.linspace(min(y_PFS['PFS']),max(y_PFS['PFS'])-0.001,100)"
   ]
  },
  {
   "cell_type": "code",
   "execution_count": null,
   "id": "27c7988c",
   "metadata": {},
   "outputs": [],
   "source": [
    "# Average A-AUC\n",
    "risk_scores=m1.predict(X_PFS[m1.feature_names_in_])\n",
    "auc, mean_auc = cumulative_dynamic_auc(\n",
    "    y_tr_PFS, y_PFS, risk_scores, time\n",
    ")\n",
    "\n",
    "print(mean_auc)"
   ]
  },
  {
   "cell_type": "code",
   "execution_count": null,
   "id": "2c66f91e",
   "metadata": {},
   "outputs": [],
   "source": []
  }
 ],
 "metadata": {
  "kernelspec": {
   "display_name": "Python 3 (ipykernel)",
   "language": "python",
   "name": "python3"
  },
  "language_info": {
   "codemirror_mode": {
    "name": "ipython",
    "version": 3
   },
   "file_extension": ".py",
   "mimetype": "text/x-python",
   "name": "python",
   "nbconvert_exporter": "python",
   "pygments_lexer": "ipython3",
   "version": "3.10.9"
  }
 },
 "nbformat": 4,
 "nbformat_minor": 5
}
