{
 "cells": [
  {
   "cell_type": "code",
   "execution_count": null,
   "id": "7b8c77cf",
   "metadata": {},
   "outputs": [],
   "source": [
    "# IMPORT LIBRARIES\n",
    "\n",
    "import sys\n",
    "import numpy as np\n",
    "import pandas as pd\n",
    "%matplotlib inline\n",
    "import seaborn as sns\n",
    "import matplotlib.pyplot as plt\n",
    "import math\n",
    "\n",
    "from sklearn.preprocessing import StandardScaler\n",
    "\n",
    "\n",
    "from sklearn.experimental import enable_iterative_imputer\n",
    "from sklearn.impute import IterativeImputer\n",
    "from sklearn.model_selection import train_test_split\n",
    "\n"
   ]
  },
  {
   "cell_type": "code",
   "execution_count": null,
   "id": "8c5efee7",
   "metadata": {},
   "outputs": [],
   "source": [
    "df = pd.read_csv('datasets/DB MEET-URO 15 06.09.2023 MP.csv')\n",
    "\n",
    "\n",
    "data = df[['SESSO','ETA','NEFRECTOMIA','ISTOLOGIA', 'M+ ALLA DIAGNOSI',\n",
    "           'HENG_SCORE_BASALE','MSKCC score basale','Linea di Terapia','TKI','Heng score preIT', 'MSKCC score preIT', \n",
    "           'KPS','MALATTIA LINFONODI','MALATTIA VISCERALE','MALATTIA OSSO',\n",
    "           'GLOBULI BIANCHI BASALI','LINFOCITI BASALI','NEUTROFILI BASALI', \n",
    "           'PIASTRINE BASALI','MONOCITI  BASALI','EOSINOFILI BASALI','Hb basale','LDH BASALE',\n",
    "           'NLR BASALE', 'PLR BASALE', 'SII BASALE',\n",
    "# uncomment the outcome to import           \n",
    "           'DCR']]\n",
    "           #'STATUS OS', 'OS']]\n",
    "           #'STATUS PD', 'PFS']]\n",
    "\n",
    "data"
   ]
  },
  {
   "cell_type": "code",
   "execution_count": null,
   "id": "8c598280",
   "metadata": {},
   "outputs": [],
   "source": [
    "# delete patients without outcome\n",
    "\n",
    "\n",
    "data=data.dropna(subset=['DCR'])\n",
    "#data=data.dropna(subset=['OS'])\n",
    "#data=data.dropna(subset=['PFS'])\n",
    "data"
   ]
  },
  {
   "cell_type": "markdown",
   "id": "9d5a0108",
   "metadata": {},
   "source": [
    "## ------------------------------<br><br>TRAIN-TEST SPLIT & IMPUTATION "
   ]
  },
  {
   "cell_type": "code",
   "execution_count": null,
   "id": "613e33a2",
   "metadata": {},
   "outputs": [],
   "source": [
    "# IMPUTING (only on the training set)\n",
    "print((data.isnull().sum()/data.shape[0])*100)\n",
    "\n",
    "# more than 45% of LDH is missing, this feature it's excluded\n",
    "\n",
    "data = data.drop(['LDH BASALE'],axis=1)"
   ]
  },
  {
   "cell_type": "code",
   "execution_count": null,
   "id": "adb91533",
   "metadata": {},
   "outputs": [],
   "source": [
    "# SEPARATION OF COVARIATES AND TARGETS\n",
    "\n",
    "# classification\n",
    "y=data['DCR']\n",
    "data=data.iloc[:,:-1]\n",
    "\n",
    "# survival analysis \n",
    "#y=data.iloc[:,-2:]\n",
    "#data=data.iloc[:,:-2]\n",
    "       "
   ]
  },
  {
   "cell_type": "code",
   "execution_count": null,
   "id": "aefa282c",
   "metadata": {},
   "outputs": [],
   "source": [
    "# indexes of 57 patients of the external validation set\n",
    "test_ind = [2,10,20,26,42,50,63,71,72,81,85,89,142,146,149,168,170,180,184,186,188,196,198,226,271,280,284,292,293,295,302,315,\n",
    "336,339,341,357,361,365,367,373,375,386,392,402,419,431,436,444,470,477,540,541,544,558,561,563,568]\n",
    "\n",
    "test_ind = [x-1 for x in test_ind]"
   ]
  },
  {
   "cell_type": "code",
   "execution_count": null,
   "id": "719e0ee9",
   "metadata": {},
   "outputs": [],
   "source": [
    "# Isolate the external validation set from the rest\n",
    "X_ext = data.iloc[test_ind,:]\n",
    "\n",
    "y_ext = y[test_ind]\n",
    "#y_ext = y.iloc[test_ind,:]"
   ]
  },
  {
   "cell_type": "code",
   "execution_count": null,
   "id": "fb2e3875",
   "metadata": {},
   "outputs": [],
   "source": [
    "# Remove the external validation patients from the rest of the dataset\n",
    "X_int = data.copy().drop(test_ind, axis = 0)\n",
    "y_int = y.copy()\n",
    "y_int = y_int.drop(test_ind)"
   ]
  },
  {
   "cell_type": "code",
   "execution_count": null,
   "id": "6cfae7d9",
   "metadata": {
    "scrolled": false
   },
   "outputs": [],
   "source": [
    "# TRAIN-TEST SPLIT\n",
    "\n",
    "# Classification\n",
    "X_train, X_val, y_train, y_val = train_test_split(X_int, y_int, stratify=y_int, random_state=123, test_size = 0.215)\n",
    "\n",
    "# survival analysis\n",
    "#X_train, X_val, y_train, y_val = train_test_split(X_int, y_int, stratify=y_int['STATUS OS'], random_state=123, test_size = 0.215)\n",
    "#X_train, X_val, y_train, y_val = train_test_split(X_int, y_int, stratify=y_int['STATUS PD'], random_state=123, test_size = 0.215)"
   ]
  },
  {
   "cell_type": "markdown",
   "id": "32c5bbda",
   "metadata": {},
   "source": [
    "## Imputation"
   ]
  },
  {
   "cell_type": "code",
   "execution_count": null,
   "id": "a6c6d4c0",
   "metadata": {},
   "outputs": [],
   "source": [
    "X_tr = X_train.copy()\n",
    "X_t = X_ext.copy()\n",
    "X_v = X_val.copy()"
   ]
  },
  {
   "cell_type": "code",
   "execution_count": null,
   "id": "fdf8a1b8",
   "metadata": {
    "scrolled": false
   },
   "outputs": [],
   "source": [
    "# IMPUTATION\n",
    "\n",
    "# define imputer\n",
    "imputerBR = IterativeImputer()\n",
    "# fit the imputer on the training set \n",
    "imputerBR.fit(X_train)\n",
    "# transform the three datasets\n",
    "X = imputerBR.transform(X_tr)\n",
    "X1 = imputerBR.transform(X_v)\n",
    "X2 = imputerBR.transform(X_t)\n",
    "X_train = pd.DataFrame(X, columns=data.columns)\n",
    "X_val = pd.DataFrame(X1, columns=data.columns)\n",
    "X_test = pd.DataFrame(X2, columns=data.columns)\n",
    "X_train"
   ]
  },
  {
   "cell_type": "code",
   "execution_count": null,
   "id": "05193973",
   "metadata": {},
   "outputs": [],
   "source": [
    "# type conversion of features that should be integer\n",
    "\n",
    "X_train['ISTOLOGIA'] = round(X_train['ISTOLOGIA']).astype('int64')\n",
    "X_val['ISTOLOGIA'] = round(X_val['ISTOLOGIA']).astype('int64')\n",
    "X_test['ISTOLOGIA'] = round(X_test['ISTOLOGIA']).astype('int64')\n",
    "\n",
    "X_train['KPS'] = round(X_train['KPS']).astype('int64')\n",
    "X_val['KPS'] = round(X_val['KPS']).astype('int64')\n",
    "X_test['KPS'] = round(X_test['KPS']).astype('int64')\n",
    "\n",
    "X_train['SESSO'] = round(X_train['SESSO']).astype('int64')\n",
    "X_val['SESSO'] = round(X_val['SESSO']).astype('int64')\n",
    "X_test['SESSO'] = round(X_test['SESSO']).astype('int64')\n",
    "\n",
    "X_train['Linea di Terapia'] = round(X_train['Linea di Terapia']).astype('int64')\n",
    "X_val['Linea di Terapia'] = round(X_val['Linea di Terapia']).astype('int64')\n",
    "X_test['Linea di Terapia'] = round(X_test['Linea di Terapia']).astype('int64')\n",
    "\n",
    "X_train['TKI'] = round(X_train['TKI']).astype('int64')\n",
    "X_val['TKI'] = round(X_val['TKI']).astype('int64')\n",
    "X_test['TKI'] = round(X_test['TKI']).astype('int64')\n",
    "\n",
    "X_train['HENG_SCORE_BASALE'] = round(X_train['HENG_SCORE_BASALE']).astype('int64')\n",
    "X_val['HENG_SCORE_BASALE'] = round(X_val['HENG_SCORE_BASALE']).astype('int64')\n",
    "X_test['HENG_SCORE_BASALE'] = round(X_test['HENG_SCORE_BASALE']).astype('int64')\n",
    "\n",
    "X_train['MSKCC score basale'] = round(X_train['MSKCC score basale']).astype('int64')\n",
    "X_val['MSKCC score basale'] = round(X_val['MSKCC score basale']).astype('int64')\n",
    "X_test['MSKCC score basale'] = round(X_test['MSKCC score basale']).astype('int64')\n",
    "\n",
    "X_train['Heng score preIT'] = round(X_train['Heng score preIT']).astype('int64')\n",
    "X_val['Heng score preIT'] = round(X_val['Heng score preIT']).astype('int64')\n",
    "X_test['Heng score preIT'] = round(X_test['Heng score preIT']).astype('int64')\n",
    "\n",
    "X_train['MSKCC score preIT'] = round(X_train['MSKCC score preIT']).astype('int64')\n",
    "X_val['MSKCC score preIT'] = round(X_val['MSKCC score preIT']).astype('int64')\n",
    "X_test['MSKCC score preIT'] = round(X_test['MSKCC score preIT']).astype('int64')\n",
    "\n",
    "X_train['NEFRECTOMIA'] = round(X_train['NEFRECTOMIA']).astype('int64')\n",
    "X_val['NEFRECTOMIA'] = round(X_val['NEFRECTOMIA']).astype('int64')\n",
    "X_test['NEFRECTOMIA'] = round(X_test['NEFRECTOMIA']).astype('int64')\n",
    "\n",
    "X_train['M+ ALLA DIAGNOSI'] = round(X_train['M+ ALLA DIAGNOSI']).astype('int64')\n",
    "X_val['M+ ALLA DIAGNOSI'] = round(X_val['M+ ALLA DIAGNOSI']).astype('int64')\n",
    "X_test['M+ ALLA DIAGNOSI'] = round(X_test['M+ ALLA DIAGNOSI']).astype('int64')\n",
    "\n",
    "X_train['MALATTIA LINFONODI'] = round(X_train['MALATTIA LINFONODI']).astype('int64')\n",
    "X_val['MALATTIA LINFONODI'] = round(X_val['MALATTIA LINFONODI']).astype('int64')\n",
    "X_test['MALATTIA LINFONODI'] = round(X_test['MALATTIA LINFONODI']).astype('int64')\n",
    "\n",
    "X_train['MALATTIA VISCERALE'] = round(X_train['MALATTIA VISCERALE']).astype('int64')\n",
    "X_val['MALATTIA VISCERALE'] = round(X_val['MALATTIA VISCERALE']).astype('int64')\n",
    "X_test['MALATTIA VISCERALE'] = round(X_test['MALATTIA VISCERALE']).astype('int64')\n",
    "\n",
    "X_train['MALATTIA OSSO'] = round(X_train['MALATTIA OSSO']).astype('int64')\n",
    "X_val['MALATTIA OSSO'] = round(X_val['MALATTIA OSSO']).astype('int64')\n",
    "X_test['MALATTIA OSSO'] = round(X_test['MALATTIA OSSO']).astype('int64')\n",
    "\n"
   ]
  },
  {
   "cell_type": "markdown",
   "id": "26498947",
   "metadata": {},
   "source": [
    "## -----------------------------------------<br><br>LOGARITHMIC TRANSFORMATION"
   ]
  },
  {
   "cell_type": "code",
   "execution_count": null,
   "id": "388ed7fb",
   "metadata": {},
   "outputs": [],
   "source": [
    "# split between numerical and categorical features\n",
    "\n",
    "categorical_features_indices = np.where(X_train.dtypes == 'int64')[0]\n",
    "X_train_categorical=X_train.copy().iloc[:,categorical_features_indices]\n",
    "X_val_categorical=X_val.copy().iloc[:,categorical_features_indices]\n",
    "X_test_categorical=X_test.copy().iloc[:,categorical_features_indices]\n",
    "\n",
    "numerical_features_indices = np.where(X_train.dtypes == 'float64')[0]\n",
    "X_train_numerical=X_train.copy().iloc[:,numerical_features_indices]\n",
    "X_val_numerical=X_val.copy().iloc[:,numerical_features_indices]\n",
    "X_test_numerical=X_test.copy().iloc[:,numerical_features_indices]\n"
   ]
  },
  {
   "cell_type": "code",
   "execution_count": null,
   "id": "9c5a2e03",
   "metadata": {},
   "outputs": [],
   "source": [
    "# plot numerical features\n",
    "\n",
    "X = X_train_numerical.copy()\n",
    "X.hist(layout=(4,4), figsize=(15,12))"
   ]
  },
  {
   "cell_type": "code",
   "execution_count": null,
   "id": "5d7b4e8a",
   "metadata": {
    "scrolled": false
   },
   "outputs": [],
   "source": [
    "# apply transformation to the chosen features\n",
    "\n",
    "\n",
    "X['logNLR']=X['NLR BASALE'].apply(lambda y: math.log(y+1))\n",
    "X['logPLR']=X['PLR BASALE'].apply(lambda y: math.log(y+1))\n",
    "X['logSII']=X['SII BASALE'].apply(lambda y: math.log(y+1))\n",
    "X['logEosinophils']=X['EOSINOFILI BASALI'].apply(lambda y: math.log(y+1))\n",
    "\n",
    "X[['NLR BASALE','logNLR', 'SII BASALE', 'logSII', 'PLR BASALE', 'logPLR','EOSINOFILI BASALI','logEosinophils']].hist(layout=(4,2), figsize=(8,15))\n"
   ]
  },
  {
   "cell_type": "code",
   "execution_count": null,
   "id": "34c8e8c1",
   "metadata": {},
   "outputs": [],
   "source": [
    "# elimination of non-logarithmic version\n",
    "X = X.drop(['NLR BASALE', 'SII BASALE','PLR BASALE', 'EOSINOFILI BASALI'], axis=1)\n"
   ]
  },
  {
   "cell_type": "code",
   "execution_count": null,
   "id": "d5ce9eca",
   "metadata": {
    "scrolled": true
   },
   "outputs": [],
   "source": [
    "# transformation of test and external validation sets\n",
    "X_train_numerical = X.copy()\n",
    "\n",
    "# TEST SET\n",
    "X_val_numerical['logNLR']=X_val_numerical['NLR BASALE'].apply(lambda x: math.log(x+1))\n",
    "X_val_numerical = X_val_numerical.drop(['NLR BASALE'], axis=1)\n",
    "X_val_numerical['logPLR']=X_val_numerical['PLR BASALE'].apply(lambda x: math.log(x+1))\n",
    "X_val_numerical = X_val_numerical.drop(['PLR BASALE'], axis=1)\n",
    "X_val_numerical['logSII']=X_val_numerical['SII BASALE'].apply(lambda x: math.log(x+1))\n",
    "X_val_numerical = X_val_numerical.drop(['SII BASALE'], axis=1)\n",
    "X_val_numerical['logEosinophils']=X_val_numerical['EOSINOFILI BASALI'].apply(lambda x: math.log(x+1))\n",
    "X_val_numerical = X_val_numerical.drop(['EOSINOFILI BASALI'], axis=1)\n",
    "\n",
    "# EXTERNAL VALIDATION\n",
    "X_test_numerical['logNLR']=X_test_numerical['NLR BASALE'].apply(lambda x: math.log(x+1))\n",
    "X_test_numerical = X_test_numerical.drop(['NLR BASALE'], axis=1)\n",
    "X_test_numerical['logPLR']=X_test_numerical['PLR BASALE'].apply(lambda x: math.log(x+1))\n",
    "X_test_numerical = X_test_numerical.drop(['PLR BASALE'], axis=1)\n",
    "X_test_numerical['logSII']=X_test_numerical['SII BASALE'].apply(lambda x: math.log(x+1))\n",
    "X_test_numerical = X_test_numerical.drop(['SII BASALE'], axis=1)\n",
    "X_test_numerical['logEosinophils']=X_test_numerical['EOSINOFILI BASALI'].apply(lambda x: math.log(x+1))\n",
    "X_test_numerical = X_test_numerical.drop(['EOSINOFILI BASALI'], axis=1)\n"
   ]
  },
  {
   "cell_type": "code",
   "execution_count": null,
   "id": "cb70edbc",
   "metadata": {},
   "outputs": [],
   "source": [
    "X_train = pd.concat([X_train_numerical, X_train_categorical], axis=1)\n",
    "X_test = pd.concat([X_test_numerical, X_test_categorical], axis=1) \n",
    "X_val = pd.concat([X_val_numerical, X_val_categorical], axis=1)"
   ]
  },
  {
   "cell_type": "markdown",
   "id": "6d987dbd",
   "metadata": {},
   "source": [
    "## Standardization"
   ]
  },
  {
   "cell_type": "code",
   "execution_count": null,
   "id": "9627475b",
   "metadata": {},
   "outputs": [],
   "source": [
    "categorical_features_indices = np.where(X_train.dtypes == 'int64')[0]\n",
    "X_train_categorical=X_train.iloc[:,categorical_features_indices]\n",
    "X_val_categorical=X_val.iloc[:,categorical_features_indices]\n",
    "X_test_categorical=X_test.iloc[:,categorical_features_indices]\n",
    "\n",
    "numerical_features_indices = np.where(X_train.dtypes == 'float64')[0]\n",
    "X_train_numerical=X_train.iloc[:,numerical_features_indices]\n",
    "X_val_numerical=X_val.iloc[:,numerical_features_indices]\n",
    "X_test_numerical=X_test.iloc[:,numerical_features_indices]"
   ]
  },
  {
   "cell_type": "code",
   "execution_count": null,
   "id": "5a5e53db",
   "metadata": {},
   "outputs": [],
   "source": [
    "scaler = StandardScaler()\n",
    "\n",
    "# scaler fitted on the training set\n",
    "scaler.fit(X_train_numerical)\n",
    "\n",
    "X_train_scaled = pd.DataFrame(scaler.transform(X_train_numerical))  \n",
    "X_train_scaled.columns=X_train_numerical.columns\n",
    "X_train_categorical.index=X_train_scaled.index\n",
    "\n",
    "X_test_scaled = pd.DataFrame(scaler.transform(X_test_numerical))\n",
    "X_test_scaled.columns=X_test_numerical.columns\n",
    "X_test_categorical.index=X_test_scaled.index\n",
    "\n",
    "X_val_scaled = pd.DataFrame(scaler.transform(X_val_numerical))\n",
    "X_val_scaled.columns=X_val_numerical.columns\n",
    "X_val_categorical.index=X_val_scaled.index\n"
   ]
  },
  {
   "cell_type": "code",
   "execution_count": null,
   "id": "f35dadaf",
   "metadata": {},
   "outputs": [],
   "source": [
    "y_train.index = X_train.index\n",
    "y_val.index = X_val.index\n",
    "y_ext.index = X_test.index\n"
   ]
  },
  {
   "cell_type": "code",
   "execution_count": null,
   "id": "81277dc7",
   "metadata": {},
   "outputs": [],
   "source": [
    "X_tr = pd.concat([X_train_scaled, X_train_categorical], axis=1)\n",
    "X_v = pd.concat([X_val_scaled, X_val_categorical], axis=1)\n",
    "X_t = pd.concat([X_test_scaled, X_test_categorical],axis=1)"
   ]
  },
  {
   "cell_type": "code",
   "execution_count": null,
   "id": "a316524f",
   "metadata": {},
   "outputs": [],
   "source": [
    "# transform feature names to their english version\n",
    "\n",
    "new_names = [\n",
    "    'Age',\n",
    "    'Leukocytes at baseline',\n",
    "    'Lymphocytes at baseline',\n",
    "    'Neutrophils at baseline',\n",
    "    'Platelets at baseline',\n",
    "    'Monocytes at baseline',\n",
    "    'Haemoglobin at baseline',\n",
    "    'logNLR',\n",
    "    'logPLR',\n",
    "    'logSII',\n",
    "    'logEosinophils',\n",
    "    'Sex',\n",
    "    'Surgery',\n",
    "    'Histology',\n",
    "    'Metastatic at diagnosis',\n",
    "    'Heng Score at diagnosis',\n",
    "    'MSKCC Score at diagnosis',\n",
    "    'Line of therapy',\n",
    "    'TKI',\n",
    "    'Heng Score at baseline',\n",
    "    'MSKCC Score at baseline',\n",
    "    'KPS',\n",
    "    'Lymph nodes metastases',\n",
    "    'Visceral metastases',\n",
    "    'Bone metastases'\n",
    "]\n",
    "\n",
    "X_tr.columns = new_names\n",
    "X_v.columns = new_names\n",
    "X_t.columns = new_names"
   ]
  },
  {
   "cell_type": "markdown",
   "id": "35956e26",
   "metadata": {},
   "source": [
    "## Elimination of features with high correlation (>0.8)"
   ]
  },
  {
   "cell_type": "code",
   "execution_count": null,
   "id": "62586964",
   "metadata": {},
   "outputs": [],
   "source": [
    "\n",
    "plt.figure(figsize=(30, 20))\n",
    "heatmap = sns.heatmap(X_tr.corr(), vmin=-1, vmax=1, fmt='.2f', annot=True, annot_kws={'fontsize': 18})\n",
    "heatmap.set_title('Correlation Heatmap', fontdict={'fontsize':25}, pad=12);\n",
    "heatmap.set_xticklabels(heatmap.get_xmajorticklabels(), fontsize = 20)\n",
    "heatmap.set_yticklabels(heatmap.get_ymajorticklabels(), fontsize = 20)\n",
    "\n",
    "\n",
    "# SAVE THE MATRIX in function of the chosen outcome\n",
    "\n",
    "# classification\n",
    "path = 'results/classification/DCR/Correlation_matrix.png'\n",
    "\n",
    "# survival analysis\n",
    "path = 'results/survival/OS/Correlation_matrix.png'\n",
    "#path = 'results/survival/PFS/Correlation_matrix.png'\n",
    "fig = heatmap.get_figure()\n",
    "fig.savefig(path,format='png',bbox_inches = 'tight')\n",
    "\n",
    "\n",
    "# identification of highly correlated features \n",
    "cor_matrix = X_tr.corr().abs() \n",
    "upper_tri = cor_matrix.where(np.triu(np.ones(cor_matrix.shape),k=1).astype(bool))\n",
    "\n",
    "to_drop = [column for column in upper_tri.columns if any(upper_tri[column] > 0.8)]\n",
    "print(to_drop)"
   ]
  },
  {
   "cell_type": "code",
   "execution_count": null,
   "id": "8dd9b4fc",
   "metadata": {},
   "outputs": [],
   "source": [
    "# removal of chosen features\n",
    "X_tr = X_tr.drop(['MSKCC Score at diagnosis', 'MSKCC Score at baseline'], axis =1) \n",
    "X_v = X_v.drop(['MSKCC Score at diagnosis', 'MSKCC Score at baseline'], axis =1) \n",
    "X_t = X_t.drop(['MSKCC Score at diagnosis', 'MSKCC Score at baseline'], axis =1) "
   ]
  },
  {
   "cell_type": "code",
   "execution_count": null,
   "id": "3f856053",
   "metadata": {},
   "outputs": [],
   "source": [
    "task = 'CLASS'\n",
    "\n",
    "#task = 'SURV'\n",
    "#outcome = 'OS'\n",
    "#outcome = 'PFS'"
   ]
  },
  {
   "cell_type": "code",
   "execution_count": null,
   "id": "909079e4",
   "metadata": {},
   "outputs": [],
   "source": [
    "# SAVE THE DATA\n",
    "\n",
    "# classification\n",
    "if task=='CLASS':\n",
    "    X_tr.to_csv(\"data/classification/DCR/X_train.csv\")\n",
    "    X_v.to_csv(\"data/classification/DCR/X_val.csv\")\n",
    "    X_t.to_csv(\"data/classification/DCR/X_test.csv\")\n",
    "\n",
    "    y_train.to_csv(\"data/classification/DCR/y_train.csv\")\n",
    "    y_val.to_csv(\"data/classification/DCR/y_val.csv\")\n",
    "    y_ext.to_csv(\"data/classification/DCR/y_test.csv\")\n",
    "# survival analysis                     \n",
    "else:\n",
    "    X_tr.to_csv(\"data/survival/{o}/X_train.csv\".format(o=outcome))\n",
    "    X_v.to_csv(\"data/survival/{o}/X_val.csv\".format(o=outcome))\n",
    "    X_t.to_csv(\"data/survival/{o}/X_test.csv\".format(o=outcome))\n",
    "\n",
    "    y_train.to_csv(\"data/survival/{o}/y_train.csv\".format(o=outcome))\n",
    "    y_val.to_csv(\"data/survival/{o}/y_val.csv\".format(o=outcome))\n",
    "    y_ext.to_csv(\"data/survival/{o}/y_test.csv\".format(o=outcome))\n",
    "                     \n"
   ]
  },
  {
   "cell_type": "code",
   "execution_count": null,
   "id": "89e5209f",
   "metadata": {},
   "outputs": [],
   "source": []
  }
 ],
 "metadata": {
  "kernelspec": {
   "display_name": "Python 3 (ipykernel)",
   "language": "python",
   "name": "python3"
  },
  "language_info": {
   "codemirror_mode": {
    "name": "ipython",
    "version": 3
   },
   "file_extension": ".py",
   "mimetype": "text/x-python",
   "name": "python",
   "nbconvert_exporter": "python",
   "pygments_lexer": "ipython3",
   "version": "3.10.9"
  }
 },
 "nbformat": 4,
 "nbformat_minor": 5
}
