{
 "cells": [
  {
   "cell_type": "code",
   "execution_count": null,
   "id": "77d3fbb7",
   "metadata": {},
   "outputs": [],
   "source": [
    "import sys\n",
    "import numpy as np\n",
    "import pandas as pd\n",
    "%matplotlib inline\n",
    "import seaborn as sns\n",
    "import matplotlib.pyplot as plt\n",
    "\n",
    "\n",
    "\n",
    "# packages for Survival analyis\n",
    "from sksurv.ensemble import ExtraSurvivalTrees\n",
    "\n",
    "\n",
    "import shap"
   ]
  },
  {
   "cell_type": "code",
   "execution_count": null,
   "id": "b7f21685",
   "metadata": {},
   "outputs": [],
   "source": [
    "X_train=pd.read_csv(\"data/survival/OS/X_train.csv\", index_col=0)\n",
    "X_test=pd.read_csv(\"data/survival/OS/X_val.csv\", index_col=0)\n",
    "\n",
    "y_train=pd.read_csv(\"data/survival/OS/y_train.csv\", index_col=0)\n",
    "y_test=pd.read_csv(\"data/survival/OS/y_val.csv\", index_col=0)\n",
    "\n",
    "y_train['STATUS OS']=y_train['STATUS OS'].astype(bool)\n",
    "y_test['STATUS OS']=y_test['STATUS OS'].astype(bool)\n",
    "\n",
    "y_tr = y_train.to_records(index=False)\n",
    "y_t = y_test.to_records(index=False)"
   ]
  },
  {
   "cell_type": "code",
   "execution_count": null,
   "id": "73b6000c",
   "metadata": {},
   "outputs": [],
   "source": [
    "# import the best model\n",
    "import pickle\n",
    "path = 'results/survival/OS/MODELS(ALL)/EST.pkl'\n"
   ]
  },
  {
   "cell_type": "code",
   "execution_count": null,
   "id": "84f50cbf",
   "metadata": {},
   "outputs": [],
   "source": []
  },
  {
   "cell_type": "markdown",
   "id": "dcaa5920",
   "metadata": {},
   "source": [
    "## EST ALL"
   ]
  },
  {
   "cell_type": "code",
   "execution_count": null,
   "id": "b262d65d",
   "metadata": {},
   "outputs": [],
   "source": [
    "m1 = pickle.load(open(path, 'rb'))\n",
    "m1"
   ]
  },
  {
   "cell_type": "code",
   "execution_count": null,
   "id": "2573ac8f",
   "metadata": {},
   "outputs": [],
   "source": [
    "# english names of features\n",
    "feats=['Age', 'Leukocytes at baseline', 'Lymphocytes at baseline',\n",
    "       'Neutrophils at baseline', 'Platelets at baseline',\n",
    "       'Monocytes at baseline', 'Haemoglobin at baseline', 'logNLR',\n",
    "       'logPLR', 'logSII', 'logEosinophils', 'Sex', 'Surgery',\n",
    "       'Histology', 'Metastatic at diagnosis', 'Heng Score at diagnosis',\n",
    "       'Line of therapy', 'TKI', 'Heng Score at baseline', 'KPS',\n",
    "       'Lymph nodes metastases', 'Visceral metastases', 'Bone metastases']"
   ]
  },
  {
   "cell_type": "code",
   "execution_count": null,
   "id": "25314950",
   "metadata": {},
   "outputs": [],
   "source": [
    "X_tr = X_train.loc[:,m1.feature_names_in_].copy()\n",
    "X_t = X_test.loc[:,m1.feature_names_in_].copy()"
   ]
  },
  {
   "cell_type": "code",
   "execution_count": null,
   "id": "43501908",
   "metadata": {},
   "outputs": [],
   "source": [
    "explainer = shap.Explainer(m1.predict,X_tr)\n",
    "shap_values = explainer(X_t)\n",
    "\n",
    "plt.figure(figsize=(30, 10))\n",
    "shap.summary_plot(shap_values, max_display=X_tr.shape[1], show=False, feature_names=feats)\n",
    "#plt.savefig('results/survival/OS/SHAP AND CURVES/SHAP_OS_MU.png',format='png', bbox_inches = 'tight')"
   ]
  },
  {
   "cell_type": "code",
   "execution_count": null,
   "id": "95feb8dd",
   "metadata": {},
   "outputs": [],
   "source": []
  },
  {
   "cell_type": "code",
   "execution_count": null,
   "id": "41431996",
   "metadata": {},
   "outputs": [],
   "source": []
  }
 ],
 "metadata": {
  "kernelspec": {
   "display_name": "Python 3 (ipykernel)",
   "language": "python",
   "name": "python3"
  },
  "language_info": {
   "codemirror_mode": {
    "name": "ipython",
    "version": 3
   },
   "file_extension": ".py",
   "mimetype": "text/x-python",
   "name": "python",
   "nbconvert_exporter": "python",
   "pygments_lexer": "ipython3",
   "version": "3.10.9"
  }
 },
 "nbformat": 4,
 "nbformat_minor": 5
}
