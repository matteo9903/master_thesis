{
 "cells": [
  {
   "cell_type": "code",
   "execution_count": null,
   "id": "77d3fbb7",
   "metadata": {},
   "outputs": [],
   "source": [
    "import sys\n",
    "import numpy as np\n",
    "import pandas as pd\n",
    "%matplotlib inline\n",
    "import seaborn as sns\n",
    "import matplotlib.pyplot as plt\n",
    "\n",
    "from sklearn.ensemble import ExtraTreesClassifier\n",
    "\n",
    "import shap\n"
   ]
  },
  {
   "cell_type": "code",
   "execution_count": null,
   "id": "b7f21685",
   "metadata": {},
   "outputs": [],
   "source": [
    "X_train=pd.read_csv(\"data/classification/DCR/X_train.csv\", index_col=0)\n",
    "X_test=pd.read_csv(\"data/classification/DCR/X_val.csv\", index_col=0)\n",
    "\n",
    "\n",
    "y_train=pd.read_csv(\"data/classification/DCR/y_train.csv\", index_col=0)\n",
    "y_test=pd.read_csv(\"data/classification/DCR/y_val.csv\", index_col=0)\n",
    "\n",
    "y_train = y_train.squeeze()\n",
    "y_test = y_test.squeeze()"
   ]
  },
  {
   "cell_type": "code",
   "execution_count": null,
   "id": "73b6000c",
   "metadata": {},
   "outputs": [],
   "source": [
    "import pickle\n",
    "path = 'results/classification/DCR/RFE/MODELS/RF.pkl'  # RF - RFE (19 feats)\n",
    "\n",
    "\n",
    "m1 = pickle.load(open(path, 'rb'))"
   ]
  },
  {
   "cell_type": "code",
   "execution_count": null,
   "id": "569be220",
   "metadata": {},
   "outputs": [],
   "source": [
    "# english names of selected features\n",
    "feats1=['Age', 'Leukocytes at baseline', 'Lymphocytes at baseline',\n",
    "       'Neutrophils at baseline', 'Platelets at baseline',\n",
    "       'Monocytes at baseline', 'Haemoglobin at baseline', 'logNLR',\n",
    "       'logPLR', 'logSII', 'logEosinophils', 'Sex', 'Histology',\n",
    "       'Metastatic at diagnosis', 'Heng Score at diagnosis',\n",
    "       'Heng Score at baseline', 'KPS', 'Lymph nodes metastases',\n",
    "       'Bone metastases']"
   ]
  },
  {
   "cell_type": "markdown",
   "id": "836ab1ef",
   "metadata": {},
   "source": [
    "## RF - RFE"
   ]
  },
  {
   "cell_type": "code",
   "execution_count": null,
   "id": "2398cc8d",
   "metadata": {},
   "outputs": [],
   "source": [
    "X_tr = X_train.loc[:,m1.feature_names_in_]\n",
    "X_t = X_test.loc[:,m1.feature_names_in_]"
   ]
  },
  {
   "cell_type": "code",
   "execution_count": null,
   "id": "36e86ab9",
   "metadata": {},
   "outputs": [],
   "source": [
    "explainer = shap.Explainer(m1.predict,X_tr)\n",
    "shap_values = explainer(X_t)\n",
    "\n",
    "plt.figure(figsize=(30, 10))\n",
    "shap.summary_plot(shap_values, max_display=X_tr.shape[1], show=False, feature_names=feats1)\n",
    "plt.savefig('results/survival/DCR/SHAP AND CURVES/SHAP_DCR_MU.png',format='png', bbox_inches = 'tight')"
   ]
  },
  {
   "cell_type": "code",
   "execution_count": null,
   "id": "475e3b98",
   "metadata": {},
   "outputs": [],
   "source": []
  }
 ],
 "metadata": {
  "kernelspec": {
   "display_name": "Python 3 (ipykernel)",
   "language": "python",
   "name": "python3"
  },
  "language_info": {
   "codemirror_mode": {
    "name": "ipython",
    "version": 3
   },
   "file_extension": ".py",
   "mimetype": "text/x-python",
   "name": "python",
   "nbconvert_exporter": "python",
   "pygments_lexer": "ipython3",
   "version": "3.10.9"
  }
 },
 "nbformat": 4,
 "nbformat_minor": 5
}
