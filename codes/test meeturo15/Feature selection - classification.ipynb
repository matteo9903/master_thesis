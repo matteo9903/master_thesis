{
 "cells": [
  {
   "cell_type": "code",
   "execution_count": null,
   "id": "99fd2b7d",
   "metadata": {},
   "outputs": [],
   "source": [
    "import sys\n",
    "import numpy as np\n",
    "import pandas as pd\n",
    "import seaborn as sns\n",
    "import matplotlib.pyplot as plt\n",
    "import math"
   ]
  },
  {
   "cell_type": "code",
   "execution_count": null,
   "id": "cca791a3",
   "metadata": {},
   "outputs": [],
   "source": [
    "\n",
    "from sklearn.tree import DecisionTreeClassifier\n",
    "from sklearn.neighbors import KNeighborsClassifier\n",
    "from sklearn.linear_model import LogisticRegression\n",
    "from sklearn.svm import SVC\n",
    "from sklearn.neural_network import MLPClassifier\n",
    "from sklearn.ensemble import RandomForestClassifier\n",
    "from sklearn.ensemble import AdaBoostClassifier\n",
    "from sklearn.ensemble import ExtraTreesClassifier\n",
    "from xgboost import XGBClassifier\n",
    "from lightgbm import LGBMClassifier, early_stopping\n",
    "from sklearn.svm import SVC\n"
   ]
  },
  {
   "cell_type": "code",
   "execution_count": null,
   "id": "dfd1381b",
   "metadata": {},
   "outputs": [],
   "source": [
    "# upload training and test set\n",
    "X_train = pd.read_csv('data/classification/DCR/X_train.csv', index_col=0)\n",
    "X_test = pd.read_csv('data/classification/DCR/X_val.csv', index_col=0)\n",
    "y_train = pd.read_csv('data/classification/DCR/y_train.csv', index_col=0)\n",
    "y_test = pd.read_csv('data/classification/DCR/y_val.csv', index_col=0)\n",
    "y_ext = pd.read_csv('data/classification/DCR/y_test.csv', index_col=0)\n",
    "\n",
    "y_train=y_train.squeeze()\n",
    "y_test=y_test.squeeze()"
   ]
  },
  {
   "cell_type": "code",
   "execution_count": null,
   "id": "43072eb3",
   "metadata": {},
   "outputs": [],
   "source": [
    "# import functions from the file \"functions.ipynb\" to perform feature selection\n",
    "from ipynb.fs.full.functions import MRMR\n",
    "from ipynb.fs.full.functions import recursive_feature_elimination, recursive_feature_elimination_MLP\n",
    "from ipynb.fs.full.functions import fw_bw_feature_selection"
   ]
  },
  {
   "cell_type": "code",
   "execution_count": null,
   "id": "f8b5fa84",
   "metadata": {},
   "outputs": [],
   "source": [
    "names = ['XGB', 'LR', 'RF', 'MLP','SVM','AB','ET','LGBM']"
   ]
  },
  {
   "cell_type": "code",
   "execution_count": null,
   "id": "80488c78",
   "metadata": {},
   "outputs": [],
   "source": [
    "# selection is performed with default hyperparameters\n",
    "classifiers = [\n",
    "          XGBClassifier(),\n",
    "          LogisticRegression(max_iter = 200), \n",
    "          RandomForestClassifier(),\n",
    "          MLPClassifier(),\n",
    "          SVC(probability = True), \n",
    "          AdaBoostClassifier(),\n",
    "          ExtraTreesClassifier(),\n",
    "          LGBMClassifier()\n",
    "            ]"
   ]
  },
  {
   "cell_type": "code",
   "execution_count": null,
   "id": "ac436c13",
   "metadata": {},
   "outputs": [],
   "source": []
  },
  {
   "cell_type": "markdown",
   "id": "d54a2206",
   "metadata": {},
   "source": [
    "## MRMR"
   ]
  },
  {
   "cell_type": "code",
   "execution_count": null,
   "id": "7529ceec",
   "metadata": {},
   "outputs": [],
   "source": [
    "selected_features_MRMR = []\n",
    "\n",
    "\n",
    "for i in range(0, len(classifiers)):\n",
    "    sel_feats_MRMR = MRMR(X_train, y_train, classifiers[i])\n",
    "    print('Selecting on {m}'.format(m = names[i]))\n",
    "    selected_features_MRMR.append(sel_feats_MRMR)\n",
    "    print('----------------------------------------------')\n",
    "    print('----------------------------------------------')\n"
   ]
  },
  {
   "cell_type": "code",
   "execution_count": null,
   "id": "a170142e",
   "metadata": {},
   "outputs": [],
   "source": [
    "# save the selected features into CSV file\n",
    "pd.DataFrame(selected_features_MRMR).to_csv('MRMRfeats.csv')"
   ]
  },
  {
   "cell_type": "code",
   "execution_count": null,
   "id": "cda308e0",
   "metadata": {},
   "outputs": [],
   "source": []
  },
  {
   "cell_type": "markdown",
   "id": "b4cae7f2",
   "metadata": {},
   "source": [
    "## RFE"
   ]
  },
  {
   "cell_type": "code",
   "execution_count": null,
   "id": "c51f65b0",
   "metadata": {},
   "outputs": [],
   "source": [
    "selected_features_RFE = []\n",
    "\n",
    "for i in range(0, len(classifiers)):\n",
    "    if(i!=3):\n",
    "        sel_feats_RFE = recursive_feature_elimination(X_train,y_train,classifiers[i])\n",
    "        print('Selecting on {m}'.format(m = names[i]))\n",
    "        selected_features_RFE.append(sel_feats_RFE)\n",
    "        print('----------------------------------------------')\n",
    "        print('----------------------------------------------')"
   ]
  },
  {
   "cell_type": "code",
   "execution_count": null,
   "id": "8bd6529e",
   "metadata": {},
   "outputs": [],
   "source": [
    "# perform RFE for MLP because it doesn't have feature importance and its needed permutation importance with eli5\n",
    "RFE_MLP = recursive_feature_elimination_MLP(X_tr, y_train, classifiers[3])\n",
    "selected_features_RFE.insert(3,RFE_MLP)"
   ]
  },
  {
   "cell_type": "code",
   "execution_count": null,
   "id": "cbe6e30b",
   "metadata": {},
   "outputs": [],
   "source": [
    "pd.DataFrame(selected_features_RFE).to_csv('RFEfeats.csv')\n"
   ]
  },
  {
   "cell_type": "markdown",
   "id": "d66227b8",
   "metadata": {},
   "source": [
    "## FFS"
   ]
  },
  {
   "cell_type": "code",
   "execution_count": null,
   "id": "d762d664",
   "metadata": {},
   "outputs": [],
   "source": [
    "selected_features_FFS = []\n",
    "\n",
    "for i in range(0, len(classifiers)):\n",
    "    print('Selecting on {m}'.format(m = names[i]))\n",
    "    sel_feats_FFS = fw_bw_feature_selection(X_train,y_train,classifiers[i])\n",
    "    selected_features_FFS.append(sel_feats_FFS)\n",
    "    print('----------------------------------------------')\n",
    "    print('----------------------------------------------')\n",
    "    "
   ]
  },
  {
   "cell_type": "code",
   "execution_count": null,
   "id": "6156218e",
   "metadata": {},
   "outputs": [],
   "source": [
    "pd.DataFrame(selected_features_FFS).to_csv('FFSfeats.csv')"
   ]
  },
  {
   "cell_type": "code",
   "execution_count": null,
   "id": "0bfd5377",
   "metadata": {},
   "outputs": [],
   "source": []
  },
  {
   "cell_type": "markdown",
   "id": "6b08a912",
   "metadata": {},
   "source": [
    "## BFS"
   ]
  },
  {
   "cell_type": "code",
   "execution_count": null,
   "id": "a4690da8",
   "metadata": {
    "scrolled": true
   },
   "outputs": [],
   "source": [
    "selected_features_BFS = []\n",
    "\n",
    "for i in range(0, len(classifiers)):\n",
    "    print('Selecting on {m}'.format(m = names[i]))\n",
    "    sel_feats_BFS = fw_bw_feature_selection(X_train,y_train,classifiers[i],'backward')\n",
    "    selected_features_BFS.append(sel_feats_BFS)\n",
    "    print('----------------------------------------------')\n",
    "    print('----------------------------------------------')\n",
    "    "
   ]
  },
  {
   "cell_type": "code",
   "execution_count": null,
   "id": "dcfee853",
   "metadata": {},
   "outputs": [],
   "source": [
    "pd.DataFrame(selected_features_BFS).to_csv('BFSfeats.csv')"
   ]
  },
  {
   "cell_type": "code",
   "execution_count": null,
   "id": "c652d133",
   "metadata": {},
   "outputs": [],
   "source": []
  }
 ],
 "metadata": {
  "kernelspec": {
   "display_name": "Python 3 (ipykernel)",
   "language": "python",
   "name": "python3"
  },
  "language_info": {
   "codemirror_mode": {
    "name": "ipython",
    "version": 3
   },
   "file_extension": ".py",
   "mimetype": "text/x-python",
   "name": "python",
   "nbconvert_exporter": "python",
   "pygments_lexer": "ipython3",
   "version": "3.10.9"
  }
 },
 "nbformat": 4,
 "nbformat_minor": 5
}
