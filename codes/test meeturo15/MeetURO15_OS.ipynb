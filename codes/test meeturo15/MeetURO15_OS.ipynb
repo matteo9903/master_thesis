{
 "cells": [
  {
   "cell_type": "code",
   "execution_count": null,
   "id": "c9071477",
   "metadata": {},
   "outputs": [],
   "source": [
    "import numpy as np\n",
    "import pandas as pd\n",
    "import matplotlib\n",
    "import matplotlib.pyplot as plt\n",
    "%matplotlib inline"
   ]
  },
  {
   "cell_type": "code",
   "execution_count": null,
   "id": "e6ea0036",
   "metadata": {},
   "outputs": [],
   "source": [
    "import sys\n",
    "import numpy as np\n",
    "import pandas as pd\n",
    "%matplotlib inline\n",
    "import seaborn as sns\n",
    "import matplotlib.pyplot as plt\n",
    "from sklearn.model_selection import KFold, StratifiedKFold\n",
    "\n",
    "from sklearn.model_selection import train_test_split, GridSearchCV, cross_val_score, cross_val_predict\n",
    "\n",
    "# packages for Survival analyis\n",
    "from sksurv.linear_model import CoxPHSurvivalAnalysis\n",
    "from sksurv.linear_model import CoxnetSurvivalAnalysis\n",
    "from sksurv.metrics import concordance_index_censored, cumulative_dynamic_auc\n",
    "from sksurv.ensemble import RandomSurvivalForest, ExtraSurvivalTrees\n",
    "from sksurv.ensemble import GradientBoostingSurvivalAnalysis\n",
    "from sksurv.svm import FastKernelSurvivalSVM\n",
    "from sksurv.nonparametric import kaplan_meier_estimator\n",
    "\n"
   ]
  },
  {
   "cell_type": "markdown",
   "id": "9a199d56",
   "metadata": {},
   "source": [
    "## -----------------------------------------<br><br>Import data"
   ]
  },
  {
   "cell_type": "code",
   "execution_count": null,
   "id": "060db277",
   "metadata": {},
   "outputs": [],
   "source": [
    "# import train and test set\n",
    "# external validation is imported to compute KM curves\n",
    "X_train = pd.read_csv('data/survival/OS/X_train.csv', index_col=0)\n",
    "X_test = pd.read_csv('data/survival/OS/X_val.csv', index_col=0)\n",
    "X_ext = pd.read_csv('data/survival/OS/X_test.csv', index_col=0)\n",
    "y_train = pd.read_csv('data/survival/OS/y_train.csv', index_col=0)\n",
    "y_test = pd.read_csv('data/survival/OS/y_val.csv', index_col=0)\n",
    "y_ext = pd.read_csv('data/survival/OS/y_test.csv', index_col=0)\n",
    "\n",
    "y_train=y_train.squeeze()\n",
    "y_test=y_test.squeeze()\n",
    "y_ext=y_ext.squeeze()\n",
    "\n",
    "from sklearn.model_selection import StratifiedKFold\n",
    "cv = StratifiedKFold(n_splits=10)"
   ]
  },
  {
   "cell_type": "code",
   "execution_count": null,
   "id": "138ac068",
   "metadata": {},
   "outputs": [],
   "source": [
    "# the event variable must be boolean\n",
    "y_train['STATUS OS']=y_train['STATUS OS'].astype(bool)\n",
    "y_test['STATUS OS']=y_test['STATUS OS'].astype(bool)\n",
    "y_ext['STATUS OS']=y_ext['STATUS OS'].astype(bool)\n",
    "# targets must be an array (not a dataframe)\n",
    "y_tr=y_train.to_records(index=False)\n",
    "y_t=y_test.to_records(index=False)\n",
    "y_e=y_ext.to_records(index=False)"
   ]
  },
  {
   "cell_type": "code",
   "execution_count": null,
   "id": "1c6d3744",
   "metadata": {},
   "outputs": [],
   "source": []
  },
  {
   "cell_type": "markdown",
   "id": "be813505",
   "metadata": {},
   "source": [
    "### KAPLAN-MEIER ESTIMATION"
   ]
  },
  {
   "cell_type": "code",
   "execution_count": null,
   "id": "e1d6cf2c",
   "metadata": {
    "scrolled": false
   },
   "outputs": [],
   "source": [
    "# KAPLAN MEIER ESTIMATION FOR SURVIVAL CURVE \n",
    "y =np.concatenate([y_tr,y_t,y_e])\n",
    "X =pd.concat([X_train, X_test,X_ext],axis=0)\n",
    "\n",
    "t_km, surv_km, conf_int = kaplan_meier_estimator(y['STATUS OS'],y['OS'], conf_type='log-log')\n",
    "\n",
    "plt.step(t_km,surv_km, where=\"post\")\n",
    "plt.fill_between(t_km, conf_int[0], conf_int[1], alpha=0.25, step=\"post\")\n",
    "plt.ylim(0, 1)\n",
    "plt.grid()\n",
    "plt.ylabel(\"Survival probability\")\n",
    "plt.xlabel(\"Months from IO baseline\")\n",
    "\n",
    "path_save = 'results/survival/OS/K-M_with_confidence.png'\n",
    "#plt.savefig(path_save, format='png')"
   ]
  },
  {
   "cell_type": "markdown",
   "id": "61b2b46d",
   "metadata": {},
   "source": [
    "### Confidence interval with Bootstrapping"
   ]
  },
  {
   "cell_type": "code",
   "execution_count": null,
   "id": "86566d90",
   "metadata": {},
   "outputs": [],
   "source": [
    "pd.DataFrame(y['OS']).median()"
   ]
  },
  {
   "cell_type": "code",
   "execution_count": null,
   "id": "5c802046",
   "metadata": {},
   "outputs": [],
   "source": [
    "n_iter = 1000\n",
    "import random, math\n",
    "results = []\n",
    "\n",
    "for i in range(n_iter):\n",
    "    x = [random.randint(0,X.shape[0]-1) for i in range(0,math.floor(X.shape[0]/2))]\n",
    "    y_bs = y.copy()\n",
    "    y_bs = y_bs[x]\n",
    "    res = pd.DataFrame(y_bs['OS']).median()\n",
    "    results.append(res)\n",
    "\n",
    "results = np.array(results).squeeze()\n",
    "results.sort()\n",
    "# confidence intervals\n",
    "alpha = 0.95\n",
    "p = ((1.0-alpha)/2.0) * 100\n",
    "lower = max(0.0, np.percentile(results, p))\n",
    "p = (alpha+((1.0-alpha)/2.0)) * 100\n",
    "upper = min(100, np.percentile(results, p))\n",
    "print('%.0f%% confidence interval %.3f and %.3f' % (alpha*100, lower, upper))"
   ]
  },
  {
   "cell_type": "code",
   "execution_count": null,
   "id": "ff188824",
   "metadata": {},
   "outputs": [],
   "source": []
  },
  {
   "cell_type": "markdown",
   "id": "af122f4e",
   "metadata": {},
   "source": [
    "## ------------------------------- <br><br>FEATURE SELECTION - ELASTIC NET"
   ]
  },
  {
   "cell_type": "code",
   "execution_count": null,
   "id": "89f381cb",
   "metadata": {},
   "outputs": [],
   "source": [
    "# FUNCTION FOR PLOTTING TREND OF REGRESSION COEFFICIENTS\n",
    "\n",
    "def plot_coefficients(coefs, n_highlight):\n",
    "    _, ax = plt.subplots(figsize=(15, 15))\n",
    "    n_features = coefs.shape[0]\n",
    "    alphas = coefs.columns\n",
    "    for row in coefs.itertuples():\n",
    "        ax.semilogx(alphas, row[1:], \".-\", label=row.Index)\n",
    "\n",
    "    alpha_min = alphas.min()\n",
    "    top_coefs = coefs.loc[:, alpha_min].map(abs).sort_values().tail(n_highlight)\n",
    "    for name in top_coefs.index:\n",
    "        coef = coefs.loc[name, alpha_min]\n",
    "        plt.text(\n",
    "            alpha_min, coef, name + \"   \",\n",
    "            horizontalalignment=\"right\",\n",
    "            verticalalignment=\"center\",\n",
    "            fontsize=20\n",
    "        )\n",
    "\n",
    "    ax.yaxis.set_label_position(\"right\")\n",
    "    ax.yaxis.tick_right()\n",
    "    ax.grid(True)\n",
    "    ax.set_xlabel(\"alpha\", fontsize=20)\n",
    "    ax.set_ylabel(\"coefficient\", fontsize=20)\n",
    "    ax.set_xticklabels(ax.get_xmajorticklabels(), fontsize = 20)\n",
    "    ax.set_yticklabels(ax.get_ymajorticklabels(), fontsize = 20)\n",
    "    \n",
    "    # put the value of alpha selected to plot the vertical blue line inside the trend of regresison coefficients\n",
    "    #ax.axvline(0.030816829260251342, c=\"b\")\n",
    "\n",
    "    \n",
    "    path='results\\survival\\OS\\EN_coefs_trend.png'\n",
    "    #plt.savefig(path, format='png', bbox_inches = 'tight')"
   ]
  },
  {
   "cell_type": "code",
   "execution_count": null,
   "id": "2158a1dd",
   "metadata": {},
   "outputs": [],
   "source": [
    "# fit EN model\n",
    "cox_elastic_net = CoxnetSurvivalAnalysis(l1_ratio=0.9, alpha_min_ratio=0.01)\n",
    "cox_elastic_net.fit(X_train, y_tr)"
   ]
  },
  {
   "cell_type": "code",
   "execution_count": null,
   "id": "5b058574",
   "metadata": {},
   "outputs": [],
   "source": [
    "# extract the values of alpha found by EN and use grid search to select its optimal value (maximization of C-index)\n",
    "estimated_alphas=cox_elastic_net.alphas_\n",
    "cv = StratifiedKFold(n_splits=10, shuffle=True, random_state=0)\n",
    "\n",
    "gcv = GridSearchCV(\n",
    "    CoxnetSurvivalAnalysis(l1_ratio=0.9, alpha_min_ratio=0.01),\n",
    "    param_grid={\"alphas\": [[v] for v in estimated_alphas]},\n",
    "    cv=cv,\n",
    "    error_score=0.5,\n",
    "    n_jobs=1)\n",
    "\n",
    "gcv=gcv.fit(X_train,y_tr)\n",
    "\n",
    "\n",
    "cv_results = pd.DataFrame(gcv.cv_results_)"
   ]
  },
  {
   "cell_type": "code",
   "execution_count": null,
   "id": "abe93c47",
   "metadata": {},
   "outputs": [],
   "source": [
    "# PLOT TREND OF C-INDEX IN FUNCTION OF ALPHA\n",
    "alphas = cv_results.param_alphas.map(lambda x: x[0])\n",
    "mean = cv_results.mean_test_score\n",
    "std = cv_results.std_test_score\n",
    "\n",
    "fig, ax = plt.subplots(figsize=(9, 6))\n",
    "ax.plot(alphas, mean)\n",
    "ax.fill_between(alphas, mean - std, mean + std, alpha=.15)\n",
    "ax.set_xscale(\"log\")\n",
    "ax.set_ylabel(\"concordance index\")\n",
    "ax.set_xlabel(\"alpha\")\n",
    "ax.axvline(gcv.best_params_[\"alphas\"][0], c=\"C1\")\n",
    "ax.axhline(0.5, color=\"grey\", linestyle=\"--\")\n",
    "ax.grid(True)\n",
    "path='results\\survival\\OS\\EN_C_IND_trend.png'\n",
    "#plt.savefig(path, format='png',bbox_inches = 'tight')"
   ]
  },
  {
   "cell_type": "code",
   "execution_count": null,
   "id": "ea416f2f",
   "metadata": {},
   "outputs": [],
   "source": [
    "# PLOT COEFFICIENTS FOR THE OPTIMAL ALPHA\n",
    "\n",
    "best_model = gcv.best_estimator_\n",
    "best_coefs = pd.DataFrame(\n",
    "    best_model.coef_,\n",
    "    index=X_train.columns,\n",
    "    columns=[\"coefficient\"]\n",
    ")\n",
    "\n",
    "non_zero = np.sum(best_coefs.iloc[:, 0] != 0)\n",
    "print(\"Number of non-zero coefficients: {}\".format(non_zero))\n",
    "\n",
    "non_zero_coefs = best_coefs.query(\"coefficient != 0\")\n",
    "coef_order = non_zero_coefs.abs().sort_values(\"coefficient\").index\n",
    "\n",
    "_, ax = plt.subplots(figsize=(6, 8))\n",
    "non_zero_coefs.loc[coef_order].plot.barh(ax=ax, legend=False)\n",
    "ax.set_xlabel(\"coefficient\")\n",
    "ax.grid(True)\n",
    "\n",
    "path='results\\survival\\OS\\EN_sel_coefs.png'\n",
    "#plt.savefig(path, format='png', bbox_inches = 'tight')"
   ]
  },
  {
   "cell_type": "code",
   "execution_count": null,
   "id": "e9437f11",
   "metadata": {},
   "outputs": [],
   "source": [
    "# BEST ALPHA SELECTED\n",
    "gcv.best_params_[\"alphas\"][0]"
   ]
  },
  {
   "cell_type": "code",
   "execution_count": null,
   "id": "45fd10b4",
   "metadata": {},
   "outputs": [],
   "source": [
    "# PLOT COEFFICIENTS TREND WITH THE OPTIMAL ALPHA HIGHLIGHTED\n",
    "\n",
    "coefficients_elastic_net = pd.DataFrame(\n",
    "    cox_elastic_net.coef_,\n",
    "    index=X_train.columns,\n",
    "    columns=np.round(cox_elastic_net.alphas_, 8)\n",
    ")\n",
    "\n",
    "plot_coefficients(coefficients_elastic_net,5)"
   ]
  },
  {
   "cell_type": "code",
   "execution_count": null,
   "id": "9c35d71c",
   "metadata": {},
   "outputs": [],
   "source": [
    "# SELECTED FEATURES\n",
    "coefs_best=best_coefs.index[np.where(best_coefs['coefficient']!=0)[0]]"
   ]
  },
  {
   "cell_type": "code",
   "execution_count": null,
   "id": "8878e6e1",
   "metadata": {},
   "outputs": [],
   "source": [
    "# COMMENT THE COUPLE OF LINES IF YOU WANT TO TRAIN WITH EN OR WITH ALL THE FEATURES  \n",
    "\n",
    "#X_tr = X_train.copy()\n",
    "#X_t = X_test.copy()\n",
    "\n",
    "X_tr=X_train.loc[:,coefs_best]\n",
    "X_t=X_test.loc[:,coefs_best]"
   ]
  },
  {
   "cell_type": "markdown",
   "id": "2455df76",
   "metadata": {},
   "source": [
    "## ---------------------------------<br><br> SURVIVAL ANALYSIS"
   ]
  },
  {
   "cell_type": "markdown",
   "id": "29e4817c",
   "metadata": {},
   "source": [
    "In each section a model is trained, with the relative hyperparameters tuned through gridsearch;\n",
    "the c-index is calculated"
   ]
  },
  {
   "cell_type": "markdown",
   "id": "71d25e4e",
   "metadata": {},
   "source": [
    "### <br><br> CPH"
   ]
  },
  {
   "cell_type": "code",
   "execution_count": null,
   "id": "1c702183",
   "metadata": {
    "scrolled": false
   },
   "outputs": [],
   "source": [
    "cox=CoxPHSurvivalAnalysis()\n",
    "param_grid = {'n_iter': [5,10,15,20,50,100]}\n",
    "cv=StratifiedKFold(n_splits = 10, shuffle = True)\n",
    "gcv = GridSearchCV(cox, param_grid, return_train_score=True, cv=cv)\n",
    "gcv.fit(X_tr, y_tr)\n",
    "\n",
    "print(\"Best score: {f}\".format(f=gcv.best_score_))\n",
    "print(\"Parameters: {f}\".format(f=gcv.best_params_))"
   ]
  },
  {
   "cell_type": "code",
   "execution_count": null,
   "id": "1f2cc588",
   "metadata": {},
   "outputs": [],
   "source": [
    "ci_cox_cv = gcv.best_score_ \n",
    "best_cox = gcv.best_estimator_\n",
    "\n",
    "ci_cox_train = concordance_index_censored(y_tr[\"STATUS OS\"], y_tr[\"OS\"], best_cox.predict(X_tr))\n",
    "ci_cox_test = concordance_index_censored(y_t[\"STATUS OS\"], y_t[\"OS\"], best_cox.predict(X_t))\n",
    "\n",
    "print(\"COX PROPORTIONAL HAZARDS\\n----------------------\")\n",
    "print(\"C-index TRAIN: {f}\".format(f=ci_cox_train[0]))\n",
    "print(\"C-index CV: {f}\".format(f=ci_cox_cv))\n",
    "print(\"C-index TEST: {f}\".format(f=ci_cox_test[0]))"
   ]
  },
  {
   "cell_type": "markdown",
   "id": "bf4f9e58",
   "metadata": {},
   "source": [
    "### <br><br> RSF"
   ]
  },
  {
   "cell_type": "code",
   "execution_count": null,
   "id": "2d7a2602",
   "metadata": {},
   "outputs": [],
   "source": [
    "rsf = RandomSurvivalForest()\n",
    "param_grid = {\n",
    "              'max_depth':[2,3],\n",
    "              'min_samples_leaf':[2,3,4],\n",
    "              'min_samples_split': [2,3,4],\n",
    "              'n_estimators': [50,100]\n",
    "             }\n",
    "\n",
    "gcv1 = GridSearchCV(rsf, param_grid, return_train_score=True, cv=cv, verbose=1)\n",
    "gcv1.fit(X_tr, y_tr)\n",
    "print(\"Best score: {f}\".format(f=gcv1.best_score_))\n",
    "print(\"Parameters: {f}\".format(f=gcv1.best_params_))"
   ]
  },
  {
   "cell_type": "code",
   "execution_count": null,
   "id": "c945ed1e",
   "metadata": {},
   "outputs": [],
   "source": [
    "ci_rsf_cv = gcv1.best_score_ \n",
    "best_rsf = gcv1.best_estimator_\n",
    "\n",
    "ci_rsf_train = concordance_index_censored(y_tr[\"STATUS OS\"], y_tr[\"OS\"], best_rsf.predict(X_tr))\n",
    "ci_rsf_test = concordance_index_censored(y_t[\"STATUS OS\"], y_t[\"OS\"], best_rsf.predict(X_t))\n",
    "\n",
    "print(\"RANDOM SURVIVAL FOREST\\n----------------------\")\n",
    "print(\"C-index TRAIN: {f}\".format(f=ci_rsf_train[0]))\n",
    "print(\"C-index CV: {f}\".format(f=ci_rsf_cv))\n",
    "print(\"C-index TEST: {f}\".format(f=ci_rsf_test[0]))"
   ]
  },
  {
   "cell_type": "markdown",
   "id": "86b30fb0",
   "metadata": {},
   "source": [
    "### <br><br> GB"
   ]
  },
  {
   "cell_type": "code",
   "execution_count": null,
   "id": "4aebaaf5",
   "metadata": {},
   "outputs": [],
   "source": [
    "gb = GradientBoostingSurvivalAnalysis()\n",
    "\n",
    "param_grid={\n",
    "           'learning_rate':[0.001,0.01,0.1],\n",
    "           'min_samples_leaf':[3,4,6],\n",
    "            'min_samples_split': [3,4,6],\n",
    "           'max_depth':[2],\n",
    "           'n_estimators': [30,50,90]\n",
    "           }\n",
    "\n",
    "\n",
    "gcv2 = GridSearchCV(gb, param_grid, return_train_score=True, cv=cv, verbose=30, n_jobs=-1)\n",
    "gcv2.fit(X_tr, y_tr)\n",
    "print(\"Best score: {f}\".format(f=gcv2.best_score_))\n",
    "print(\"Parameters: {f}\".format(f=gcv2.best_params_))"
   ]
  },
  {
   "cell_type": "code",
   "execution_count": null,
   "id": "25c3f1d5",
   "metadata": {},
   "outputs": [],
   "source": [
    "ci_gb_cv = gcv2.best_score_ \n",
    "best_gb = gcv2.best_estimator_\n",
    "\n",
    "ci_gb_train = concordance_index_censored(y_tr[\"STATUS OS\"], y_tr[\"OS\"], best_gb.predict(X_tr))\n",
    "ci_gb_test = concordance_index_censored(y_t[\"STATUS OS\"], y_t[\"OS\"], best_gb.predict(X_t))\n",
    "\n",
    "print(\"GRADIENT BOOSTING\\n----------------------\")\n",
    "print(\"C-index TRAIN: {f}\".format(f=ci_gb_train[0]))\n",
    "print(\"C-index CV: {f}\".format(f=ci_gb_cv))\n",
    "print(\"C-index TEST: {f}\".format(f=ci_gb_test[0]))"
   ]
  },
  {
   "cell_type": "code",
   "execution_count": null,
   "id": "4cfede6a",
   "metadata": {},
   "outputs": [],
   "source": []
  },
  {
   "cell_type": "markdown",
   "id": "574253f3",
   "metadata": {},
   "source": [
    "### <br><br>SSVM"
   ]
  },
  {
   "cell_type": "code",
   "execution_count": null,
   "id": "b30a1fe6",
   "metadata": {},
   "outputs": [],
   "source": [
    "# you can't have 0 values in the training SVM, so you make them very close to it\n",
    "y1 = y_train.copy()\n",
    "y1['OS']=y1['OS'].astype('float64')\n",
    "y1=y1.to_records(index=False)\n",
    "\n",
    "y1[np.where(y1['OS']==0)[0]] = 1e-8"
   ]
  },
  {
   "cell_type": "code",
   "execution_count": null,
   "id": "9c390eb6",
   "metadata": {},
   "outputs": [],
   "source": [
    "fks=FastKernelSurvivalSVM()\n",
    "param_grid={\"alpha\":[0.01,0.1,1,10], \"kernel\":['linear','rbf'], \"gamma\":[0.01,0.1,1,10]}\n",
    "\n",
    "gcv3 = GridSearchCV(fks, param_grid, return_train_score=True, cv=cv, verbose=1, n_jobs=-1)\n",
    "gcv3.fit(X_tr, y1)\n",
    "print(\"Best score: {f}\".format(f=gcv3.best_score_))\n",
    "print(\"Parameters: {f}\".format(f=gcv3.best_params_))"
   ]
  },
  {
   "cell_type": "code",
   "execution_count": null,
   "id": "d39d8b86",
   "metadata": {},
   "outputs": [],
   "source": [
    "ci_fks_cv = gcv3.best_score_ \n",
    "best_fks = gcv3.best_estimator_\n",
    "\n",
    "ci_fks_train = concordance_index_censored(y_tr[\"STATUS OS\"], y_tr[\"OS\"], best_fks.predict(X_tr))\n",
    "ci_fks_test = concordance_index_censored(y_t[\"STATUS OS\"], y_t[\"OS\"], best_fks.predict(X_t))\n",
    "\n",
    "print(\"FAST SSVM\\n----------------------\")\n",
    "print(\"C-index TRAIN: {f}\".format(f=ci_fks_train[0]))\n",
    "print(\"C-index CV: {f}\".format(f=ci_fks_cv))\n",
    "print(\"C-index TEST: {f}\".format(f=ci_fks_test[0]))\n"
   ]
  },
  {
   "cell_type": "code",
   "execution_count": null,
   "id": "b4bcb7a3",
   "metadata": {},
   "outputs": [],
   "source": []
  },
  {
   "cell_type": "markdown",
   "id": "be3f8607",
   "metadata": {},
   "source": [
    "### <br><br> EST"
   ]
  },
  {
   "cell_type": "code",
   "execution_count": null,
   "id": "5d033159",
   "metadata": {},
   "outputs": [],
   "source": [
    "et = ExtraSurvivalTrees()\n",
    "param_grid = {\n",
    "              'max_depth':[2,3],\n",
    "              'min_samples_leaf':[2,3,4,5],\n",
    "              'min_samples_split': [2,3,4,5],\n",
    "              'n_estimators': [50,100]\n",
    "             }\n",
    "\n",
    "gcv4 = GridSearchCV(et, param_grid, return_train_score=True, cv=cv, verbose=1)\n",
    "gcv4.fit(X_tr, y_tr)\n",
    "print(\"Best score: {f}\".format(f=gcv4.best_score_))\n",
    "print(\"Parameters: {f}\".format(f=gcv4.best_params_))"
   ]
  },
  {
   "cell_type": "code",
   "execution_count": null,
   "id": "79aa858d",
   "metadata": {},
   "outputs": [],
   "source": [
    "ci_et_cv = gcv4.best_score_ \n",
    "best_est = gcv4.best_estimator_\n",
    "\n",
    "ci_et_train = concordance_index_censored(y_tr[\"STATUS OS\"], y_tr[\"OS\"], best_est.predict(X_tr))\n",
    "ci_et_test = concordance_index_censored(y_t[\"STATUS OS\"], y_t[\"OS\"], best_est.predict(X_t))\n",
    "\n",
    "print(\"EXTRA SURVIVAL TREES\\n----------------------\")\n",
    "print(\"C-index TRAIN: {f}\".format(f=ci_et_train[0]))\n",
    "print(\"C-index CV: {f}\".format(f=ci_et_cv))\n",
    "print(\"C-index TEST: {f}\".format(f=ci_et_test[0]))\n"
   ]
  },
  {
   "cell_type": "markdown",
   "id": "c20dea0d",
   "metadata": {},
   "source": [
    "## Save Models"
   ]
  },
  {
   "cell_type": "code",
   "execution_count": null,
   "id": "82aa3d8f",
   "metadata": {},
   "outputs": [],
   "source": [
    "names = ['CPH', 'RSF', 'GB', 'SSVM', 'EST']"
   ]
  },
  {
   "cell_type": "code",
   "execution_count": null,
   "id": "86043450",
   "metadata": {},
   "outputs": [],
   "source": [
    "import pickle\n",
    "# TO SAVE MODELS AFTER EN SELECTION\n",
    "path = 'results/survival/OS/MODELS/{n}.pkl'.format(n=names[0])\n",
    "pickle.dump(best_cox, open(path, 'wb'))\n",
    "path = 'results/survival/OS/MODELS/{n}.pkl'.format(n=names[1])\n",
    "pickle.dump(best_rsf, open(path, 'wb'))\n",
    "path = 'results/survival/OS/MODELS/{n}.pkl'.format(n=names[2])\n",
    "pickle.dump(best_gb, open(path, 'wb'))\n",
    "path = 'results/survival/OS/MODELS/{n}.pkl'.format(n=names[3])\n",
    "pickle.dump(best_fks, open(path, 'wb'))\n",
    "path = 'results/survival/OS/MODELS/{n}.pkl'.format(n=names[4])\n",
    "pickle.dump(best_est, open(path, 'wb'))"
   ]
  },
  {
   "cell_type": "code",
   "execution_count": null,
   "id": "838e4366",
   "metadata": {},
   "outputs": [],
   "source": [
    "# TO SAVE MODELS WITH ALL THE FEATURES\n",
    "path = 'results/survival/OS/MODELS(ALL)/{n}.pkl'.format(n=names[0])\n",
    "pickle.dump(best_cox, open(path, 'wb'))\n",
    "path = 'results/survival/OS/MODELS(ALL)/{n}.pkl'.format(n=names[1])\n",
    "pickle.dump(best_rsf, open(path, 'wb'))\n",
    "path = 'results/survival/OS/MODELS(ALL)/{n}.pkl'.format(n=names[2])\n",
    "pickle.dump(best_gb, open(path, 'wb'))\n",
    "path = 'results/survival/OS/MODELS(ALL)/{n}.pkl'.format(n=names[3])\n",
    "pickle.dump(best_fks, open(path, 'wb'))\n",
    "path = 'results/survival/OS/MODELS(ALL)/{n}.pkl'.format(n=names[4])\n",
    "pickle.dump(best_est, open(path, 'wb'))"
   ]
  },
  {
   "cell_type": "code",
   "execution_count": null,
   "id": "8e7edabc",
   "metadata": {},
   "outputs": [],
   "source": []
  },
  {
   "cell_type": "code",
   "execution_count": null,
   "id": "0ad29e5e",
   "metadata": {},
   "outputs": [],
   "source": []
  },
  {
   "cell_type": "markdown",
   "id": "39aeb921",
   "metadata": {},
   "source": [
    "## Dynamic AUC"
   ]
  },
  {
   "cell_type": "code",
   "execution_count": null,
   "id": "7c8c4e58",
   "metadata": {},
   "outputs": [],
   "source": [
    "X_tra = X_tr.copy()\n",
    "X_te =X_t.copy()\n"
   ]
  },
  {
   "cell_type": "code",
   "execution_count": null,
   "id": "26e38119",
   "metadata": {},
   "outputs": [],
   "source": [
    "trained_models = []\n",
    "survs = []\n",
    "\n",
    "\n",
    "for j in range(0, len(names)):\n",
    "\n",
    "    path = 'results/survival/OS/MODELS/{n}.pkl'.format(n=names[j])\n",
    "    # if you want to upload models with all the features\n",
    "    #path = 'results/survival/OS/MODELS(ALL)/{n}.pkl'.format(n=names[j])  \n",
    "    \n",
    "    train_mod=pickle.load(open(path, 'rb'))\n",
    "    if(j!=3):\n",
    "        surv= train_mod.predict_survival_function(X_te)\n",
    "    else:\n",
    "        surv = [0]\n",
    "\n",
    "    trained_models.append(train_mod)\n",
    "    survs.append(surv)"
   ]
  },
  {
   "cell_type": "code",
   "execution_count": null,
   "id": "2736b3e4",
   "metadata": {},
   "outputs": [],
   "source": [
    "times = np.linspace(min(y_t['OS']),max(y_t['OS'])-0.001,30)"
   ]
  },
  {
   "cell_type": "code",
   "execution_count": null,
   "id": "183bfa70",
   "metadata": {},
   "outputs": [],
   "source": [
    "# calculate Dynamic AUC\n",
    "\n",
    "cox_risk_scores=trained_models[0].predict(X_te)\n",
    "cox_auc, cox_mean_auc = cumulative_dynamic_auc(\n",
    "    y_tr, y_t, cox_risk_scores, times\n",
    ")\n",
    "\n",
    "rsf_risk_scores=trained_models[1].predict(X_te)\n",
    "rsf_auc, rsf_mean_auc = cumulative_dynamic_auc(\n",
    "    y_tr, y_t, rsf_risk_scores, times\n",
    ")\n",
    "\n",
    "\n",
    "gb_risk_scores=trained_models[2].predict(X_te)\n",
    "gb_auc, gb_mean_auc = cumulative_dynamic_auc(\n",
    "    y_tr, y_t, gb_risk_scores, times\n",
    ")\n",
    "\n",
    "\n",
    "fks_risk_scores=trained_models[3].predict(X_te)\n",
    "fks_auc, fks_mean_auc = cumulative_dynamic_auc(\n",
    "    y_tr, y_t, fks_risk_scores, times\n",
    ")\n",
    "\n",
    "\n",
    "et_risk_scores=trained_models[4].predict(X_te)\n",
    "et_auc, et_mean_auc = cumulative_dynamic_auc(\n",
    "    y_tr, y_t, et_risk_scores, times\n",
    ")\n",
    "\n",
    "print(\"Average CPH: \",cox_mean_auc)\n",
    "print(\"Average RSF: \",rsf_mean_auc)\n",
    "print(\"Average GB: \",gb_mean_auc)\n",
    "print(\"Average SSVM: \",fks_mean_auc)\n",
    "print(\"Average EST: \",et_mean_auc)\n",
    "print('-------------------------')\n"
   ]
  },
  {
   "cell_type": "markdown",
   "id": "4efa1204",
   "metadata": {},
   "source": [
    "### <br><br>  Estimation of Survival Functions"
   ]
  },
  {
   "cell_type": "code",
   "execution_count": null,
   "id": "be6e4fd5",
   "metadata": {},
   "outputs": [],
   "source": [
    "# KAPLAN MEIER ESTIMATION FOR SURVIVAL CURVE \n",
    "y =np.concatenate([y_tr,y_t, y_e])\n",
    "\n",
    "t_km, surv_km = kaplan_meier_estimator(y['STATUS OS'],y['OS'])"
   ]
  },
  {
   "cell_type": "code",
   "execution_count": null,
   "id": "87c05a46",
   "metadata": {},
   "outputs": [],
   "source": [
    "# put here the best model according to its index inside the vectors, remember that for SSVM you can't estimate the\n",
    "# survival function!\n",
    "preds = [[fn(t) for t in trained_models[4].unique_times_] for fn in survs[4]]\n"
   ]
  },
  {
   "cell_type": "code",
   "execution_count": null,
   "id": "de6913d5",
   "metadata": {
    "scrolled": true
   },
   "outputs": [],
   "source": [
    "surv=pd.DataFrame(preds)\n",
    "\n",
    "mean_surv=surv.mean()\n",
    "\n",
    "t = trained_models[4].unique_times_\n",
    "\n",
    "# choose only patients that experienced the event\n",
    "\n",
    "surv['OS']=y_t['OS']\n",
    "surv['Event']=y_t['STATUS OS']\n",
    "surv"
   ]
  },
  {
   "cell_type": "code",
   "execution_count": null,
   "id": "d8c69b0c",
   "metadata": {},
   "outputs": [],
   "source": [
    "# SURVIVAL CURVE FOR PATIENT WITH LOW OS (put the threshold value that you want)\n",
    "surv_low=surv['OS']<=5\n",
    "surv_low=surv[surv_low]\n",
    "surv_low"
   ]
  },
  {
   "cell_type": "code",
   "execution_count": null,
   "id": "ef5bf229",
   "metadata": {},
   "outputs": [],
   "source": [
    "# SURVIVAL CURVE FOR PATIENT WITH HIGH OS\n",
    "surv_high=surv['OS']>=30\n",
    "surv_high=surv[surv_high]\n",
    "surv_high"
   ]
  },
  {
   "cell_type": "code",
   "execution_count": null,
   "id": "5cc01356",
   "metadata": {},
   "outputs": [],
   "source": [
    "# PLOT THE SURVIVAL CURVES FOR PATIENTS WITH HIGH AND LOW SIRVIVAL, PUT THE INDEXES OF THE CHOSEN PATIENTS\n",
    "\n",
    "plt.figure(figsize=(15,5))\n",
    "\n",
    "\n",
    "plt.subplot(1,2,1)\n",
    "plt.step(t_km, surv_km, where=\"post\", color=\"g\", label=\"Kaplan Meier estimation\")\n",
    "plt.step(t, surv.iloc[76,:-2], where=\"post\", color=\"k\", label=\"Survival curve\")\n",
    "plt.axvline(surv.loc[76,'OS'], linestyle=\"--\", color=\"b\",linewidth=2, label=\"Time of death\")\n",
    "plt.legend(loc=\"best\", fontsize='small')\n",
    "plt.title(\"Patient with OS = {os}\".format(os=surv.loc[76,'OS']))\n",
    "plt.xlabel(\"Months from baseline of IO\")\n",
    "plt.ylabel(\"Survival probability\")\n",
    "plt.xlim(left=-1,right=max(y_t['OS']))\n",
    "plt.ylim(0,1)\n",
    "plt.grid(True)\n",
    "\n",
    "plt.subplot(1,2,2)\n",
    "plt.step(t_km, surv_km, where=\"post\", color=\"g\", label=\"Kaplan Meier estimation\")\n",
    "plt.step(t, surv.iloc[5,:-2], where=\"post\", color=\"k\", label=\"Survival curve\")\n",
    "plt.axvline(surv.loc[5,'OS'], linestyle=\"--\", color=\"b\",linewidth=2, label=\"Time of death\")\n",
    "plt.legend(loc=\"best\", fontsize='small')\n",
    "plt.title(\"Patient with OS = {os}\".format(os=surv.loc[5,'OS']))\n",
    "plt.xlabel(\"Months from baseline of IO\")\n",
    "plt.ylabel(\"Survival probability\")\n",
    "plt.xlim(left=-1,right=max(y_t['OS']))\n",
    "plt.ylim(0,1)\n",
    "plt.grid(True)\n",
    "\n",
    "path='results\\survival\\OS\\SHAP AND CURVES/Curves_EST_ALL.png'\n",
    "plt.savefig(path, format='png', bbox_inches = 'tight')\n"
   ]
  },
  {
   "cell_type": "code",
   "execution_count": null,
   "id": "e16829e7",
   "metadata": {},
   "outputs": [],
   "source": []
  }
 ],
 "metadata": {
  "kernelspec": {
   "display_name": "Python 3 (ipykernel)",
   "language": "python",
   "name": "python3"
  },
  "language_info": {
   "codemirror_mode": {
    "name": "ipython",
    "version": 3
   },
   "file_extension": ".py",
   "mimetype": "text/x-python",
   "name": "python",
   "nbconvert_exporter": "python",
   "pygments_lexer": "ipython3",
   "version": "3.10.9"
  }
 },
 "nbformat": 4,
 "nbformat_minor": 5
}
