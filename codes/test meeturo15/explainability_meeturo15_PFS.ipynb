{
 "cells": [
  {
   "cell_type": "code",
   "execution_count": 10,
   "id": "77d3fbb7",
   "metadata": {},
   "outputs": [],
   "source": [
    "import sys\n",
    "import numpy as np\n",
    "import pandas as pd\n",
    "%matplotlib inline\n",
    "import seaborn as sns\n",
    "import matplotlib.pyplot as plt\n",
    "\n",
    "\n",
    "from sklearn.experimental import enable_iterative_imputer\n",
    "from sklearn.impute import IterativeImputer\n",
    "\n",
    "\n",
    "# packages for Survival analyis\n",
    "from sksurv.ensemble import GradientBoostingSurvivalAnalysis\n",
    "\n",
    "\n",
    "import shap\n"
   ]
  },
  {
   "cell_type": "code",
   "execution_count": 11,
   "id": "b7f21685",
   "metadata": {},
   "outputs": [],
   "source": [
    "X_train=pd.read_csv(\"data/survival/PFS/X_train.csv\", index_col=0)\n",
    "X_test=pd.read_csv(\"data/survival/PFS/X_val.csv\", index_col=0)\n",
    "y_train=pd.read_csv(\"data/survival/PFS/y_train.csv\", index_col=0)\n",
    "y_test=pd.read_csv(\"data/survival/PFS/y_val.csv\", index_col=0)\n",
    "\n",
    "y_train['STATUS PD']=y_train['STATUS PD'].astype(bool)\n",
    "y_test['STATUS PD']=y_test['STATUS PD'].astype(bool)\n",
    "\n",
    "y_tr = y_train.to_records(index=False)\n",
    "y_t = y_test.to_records(index=False)"
   ]
  },
  {
   "cell_type": "code",
   "execution_count": 12,
   "id": "73b6000c",
   "metadata": {},
   "outputs": [],
   "source": [
    "import pickle\n",
    "path1 = 'results/survival/PFS/MODELS(ALL)/GB.pkl'"
   ]
  },
  {
   "cell_type": "markdown",
   "id": "0fb45543",
   "metadata": {},
   "source": [
    "## GB-ALL"
   ]
  },
  {
   "cell_type": "code",
   "execution_count": null,
   "id": "56455881",
   "metadata": {},
   "outputs": [],
   "source": [
    "gb = pickle.load(open(path1, 'rb'))\n",
    "gb"
   ]
  },
  {
   "cell_type": "code",
   "execution_count": 14,
   "id": "507846e9",
   "metadata": {},
   "outputs": [],
   "source": [
    "feats = ['Age', 'Leukocytes at baseline', 'Lymphocytes at baseline',\n",
    "       'Neutrophils at baseline', 'Platelets at baseline',\n",
    "        'Monocytes at baseline', 'Haemoglobin at baseline','logNLR',\n",
    "       'logPLR', 'logSII', 'logEosinophils', 'Sex', 'Surgery',\n",
    "       'Histology', 'Metastatic at diagnosis', 'Heng Score at diagnosis',\n",
    "       'Line of therapy', 'TKI', 'Heng Score at baseline', 'KPS',\n",
    "       'Lymph nodes metastases', 'Visceral metastases', 'Bone metastases']"
   ]
  },
  {
   "cell_type": "code",
   "execution_count": null,
   "id": "586bf507",
   "metadata": {},
   "outputs": [],
   "source": [
    "X_tr = X_train.loc[:,gb.feature_names_in_].copy()\n",
    "X_t = X_test.loc[:,gb.feature_names_in_].copy()"
   ]
  },
  {
   "cell_type": "code",
   "execution_count": null,
   "id": "36e86ab9",
   "metadata": {},
   "outputs": [],
   "source": [
    "explainer = shap.Explainer(gb.predict,X_tr)\n",
    "shap_values = explainer(X_t)\n",
    "\n",
    "plt.figure(figsize=(30, 10))\n",
    "shap.summary_plot(shap_values, max_display=X_tr.shape[1], show=False, feature_names=feats)\n",
    "plt.savefig('results/survival/PFS/SHAP AND CURVES/SHAP_PFS_MU.png',format='png', bbox_inches = 'tight')"
   ]
  },
  {
   "cell_type": "code",
   "execution_count": null,
   "id": "5d325a20",
   "metadata": {},
   "outputs": [],
   "source": []
  },
  {
   "cell_type": "code",
   "execution_count": null,
   "id": "734121d9",
   "metadata": {},
   "outputs": [],
   "source": []
  }
 ],
 "metadata": {
  "kernelspec": {
   "display_name": "Python 3 (ipykernel)",
   "language": "python",
   "name": "python3"
  },
  "language_info": {
   "codemirror_mode": {
    "name": "ipython",
    "version": 3
   },
   "file_extension": ".py",
   "mimetype": "text/x-python",
   "name": "python",
   "nbconvert_exporter": "python",
   "pygments_lexer": "ipython3",
   "version": "3.10.9"
  }
 },
 "nbformat": 4,
 "nbformat_minor": 5
}
