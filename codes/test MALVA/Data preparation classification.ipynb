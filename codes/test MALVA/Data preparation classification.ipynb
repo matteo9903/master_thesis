{
 "cells": [
  {
   "cell_type": "code",
   "execution_count": null,
   "id": "7b8c77cf",
   "metadata": {},
   "outputs": [],
   "source": [
    "import sys\n",
    "import numpy as np\n",
    "import pandas as pd\n",
    "%matplotlib inline\n",
    "import seaborn as sns\n",
    "import matplotlib.pyplot as plt\n",
    "import math\n",
    "\n",
    "from sklearn.preprocessing import StandardScaler\n",
    "\n",
    "\n",
    "from sklearn.experimental import enable_iterative_imputer\n",
    "from sklearn.impute import IterativeImputer\n",
    "from sklearn.model_selection import train_test_split\n"
   ]
  },
  {
   "cell_type": "code",
   "execution_count": null,
   "id": "8c5efee7",
   "metadata": {},
   "outputs": [],
   "source": [
    "df = pd.read_csv('datasets/MALAVA_2023-09-20_MP.csv')\n",
    "\n",
    "# IMPORT DATASET\n",
    "\n",
    "data = df[[\n",
    "    'Età', 'ECOG PS', 'SESSO', 'BMI','Uso concomitante di metformina', 'Pregresso trattamento con BCG', 'CHT neoadiuvante',\n",
    "    'CISTECTOMIA', 'ISTOLOGIA', 'Metastatico alla diagnosi', 'CHT I linea', 'Cicli CHT prima linea', 'ORR CT I linea',\n",
    "    'Metastasi linfonodali', 'Metastasi ossee', 'Metastasi viscerali', 'Metastasi epatiche', 'Metastasi polmonari',\n",
    "    'GLOBULI BIANCHI BASALI', 'NEUTROFILI BASALI', 'LINFOCITI BASALI', 'MONOCITI BASALI', 'EOSINOFILI BASALI',\n",
    "    'PIASTRINE BASALI', 'PLR BASALE', 'NLR BASALE', 'SII BASALE', 'LDH BASALE', 'Creatininemia basale', \"Steroidi all'inizio\", \n",
    "    \"PPI all'inizio\", \"Antibiotici all'inizio\", \"COXi\",\n",
    "    'ORR'\n",
    "]] \n",
    "\n",
    "data"
   ]
  },
  {
   "cell_type": "code",
   "execution_count": null,
   "id": "8c598280",
   "metadata": {},
   "outputs": [],
   "source": [
    "# delete patients without ORR\n",
    "data=data.dropna(subset=['ORR'])\n",
    "data"
   ]
  },
  {
   "cell_type": "code",
   "execution_count": null,
   "id": "3745d7a5",
   "metadata": {},
   "outputs": [],
   "source": []
  },
  {
   "cell_type": "code",
   "execution_count": null,
   "id": "5a84585b",
   "metadata": {},
   "outputs": [],
   "source": []
  },
  {
   "cell_type": "code",
   "execution_count": null,
   "id": "6fd5b737",
   "metadata": {},
   "outputs": [],
   "source": []
  },
  {
   "cell_type": "markdown",
   "id": "9d5a0108",
   "metadata": {},
   "source": [
    "## ------------------------------<br><br>TRAIN/TEST SPLIT & IMPUTATION "
   ]
  },
  {
   "cell_type": "code",
   "execution_count": null,
   "id": "613e33a2",
   "metadata": {},
   "outputs": [],
   "source": [
    "print((data.isnull().sum()/data.shape[0])*100)\n",
    "\n",
    "# LDH excluded (77%) and also metmformina (27%) --> THRESHOLD = 20%\n",
    "\n",
    "data = data.drop(['Uso concomitante di metformina','LDH BASALE'],axis=1)"
   ]
  },
  {
   "cell_type": "code",
   "execution_count": null,
   "id": "adb91533",
   "metadata": {},
   "outputs": [],
   "source": [
    "# separate covariates and target\n",
    "y=data['ORR']\n",
    "data=data.iloc[:,:-1]"
   ]
  },
  {
   "cell_type": "code",
   "execution_count": null,
   "id": "6cfae7d9",
   "metadata": {
    "scrolled": false
   },
   "outputs": [],
   "source": [
    "X_tr, X_t, y_tr, y_t = train_test_split(data, y, stratify=y, random_state=123, test_size = 0.2)  \n",
    "# 80% training - 20% test set"
   ]
  },
  {
   "cell_type": "markdown",
   "id": "32c5bbda",
   "metadata": {},
   "source": [
    "## IMPUTATION"
   ]
  },
  {
   "cell_type": "code",
   "execution_count": null,
   "id": "fdf8a1b8",
   "metadata": {
    "scrolled": false
   },
   "outputs": [],
   "source": [
    "# IMPUTATION\n",
    "\n",
    "# define imputer\n",
    "imputer = IterativeImputer()\n",
    "# fit on the dataset\n",
    "imputer.fit(X_tr)\n",
    "# transform the dataset\n",
    "X = imputer.transform(X_tr)\n",
    "X1 = imputer.transform(X_t)\n",
    "\n",
    "X_train = pd.DataFrame(X, columns=data.columns)\n",
    "X_test = pd.DataFrame(X1, columns=data.columns)\n",
    "X_train"
   ]
  },
  {
   "cell_type": "code",
   "execution_count": null,
   "id": "05193973",
   "metadata": {},
   "outputs": [],
   "source": [
    "# ROUND THE VALUES IMPUTED THAT NEED TO BE INTEGERS\n",
    "\n",
    "X_train['ECOG PS'] = round(X_train['ECOG PS']).astype('int64')\n",
    "X_test['ECOG PS'] = round(X_test['ECOG PS']).astype('int64')\n",
    "\n",
    "X_train['SESSO'] = round(X_train['SESSO']).astype('int64')\n",
    "X_test['SESSO'] = round(X_test['SESSO']).astype('int64')\n",
    "\n",
    "X_train['Pregresso trattamento con BCG'] = round(X_train['Pregresso trattamento con BCG']).astype('int64')\n",
    "X_test['Pregresso trattamento con BCG'] = round(X_test['Pregresso trattamento con BCG']).astype('int64')\n",
    "\n",
    "X_train['CHT neoadiuvante'] = round(X_train['CHT neoadiuvante']).astype('int64')\n",
    "X_test['CHT neoadiuvante'] = round(X_test['CHT neoadiuvante']).astype('int64')\n",
    "\n",
    "X_train['CISTECTOMIA'] = round(X_train['CISTECTOMIA']).astype('int64')\n",
    "X_test['CISTECTOMIA'] = round(X_test['CISTECTOMIA']).astype('int64')\n",
    "\n",
    "X_train['ISTOLOGIA'] = round(X_train['ISTOLOGIA']).astype('int64')\n",
    "X_test['ISTOLOGIA'] = round(X_test['ISTOLOGIA']).astype('int64')\n",
    "\n",
    "X_train['Metastatico alla diagnosi'] = round(X_train['Metastatico alla diagnosi']).astype('int64')\n",
    "X_test['Metastatico alla diagnosi'] = round(X_test['Metastatico alla diagnosi']).astype('int64')\n",
    "\n",
    "X_train['CHT I linea'] = round(X_train['CHT I linea']).astype('int64')\n",
    "X_test['CHT I linea'] = round(X_test['CHT I linea']).astype('int64')\n",
    "\n",
    "X_train['Cicli CHT prima linea'] = round(X_train['Cicli CHT prima linea']).astype('int64')\n",
    "X_test['Cicli CHT prima linea'] = round(X_test['Cicli CHT prima linea']).astype('int64')\n",
    "\n",
    "X_train['ORR CT I linea'] = round(X_train['ORR CT I linea']).astype('int64')\n",
    "X_test['ORR CT I linea'] = round(X_test['ORR CT I linea']).astype('int64')\n",
    "\n",
    "X_train['Metastasi linfonodali'] = round(X_train['Metastasi linfonodali']).astype('int64')\n",
    "X_test['Metastasi linfonodali'] = round(X_test['Metastasi linfonodali']).astype('int64')\n",
    "\n",
    "X_train['Metastasi ossee'] = round(X_train['Metastasi ossee']).astype('int64')\n",
    "X_test['Metastasi ossee'] = round(X_test['Metastasi ossee']).astype('int64')\n",
    "\n",
    "X_train['Metastasi viscerali'] = round(X_train['Metastasi viscerali']).astype('int64')\n",
    "X_test['Metastasi viscerali'] = round(X_test['Metastasi viscerali']).astype('int64')\n",
    "\n",
    "X_train['Metastasi epatiche'] = round(X_train['Metastasi epatiche']).astype('int64')\n",
    "X_test['Metastasi epatiche'] = round(X_test['Metastasi epatiche']).astype('int64')\n",
    "\n",
    "X_train['Metastasi polmonari'] = round(X_train['Metastasi polmonari']).astype('int64')\n",
    "X_test['Metastasi polmonari'] = round(X_test['Metastasi polmonari']).astype('int64')\n",
    "\n",
    "X_train[\"Steroidi all'inizio\"] = round(X_train[\"Steroidi all'inizio\"]).astype('int64')\n",
    "X_test[\"Steroidi all'inizio\"] = round(X_test[\"Steroidi all'inizio\"]).astype('int64')\n",
    "\n",
    "X_train[\"PPI all'inizio\"] = round(X_train[\"PPI all'inizio\"]).astype('int64')\n",
    "X_test[\"PPI all'inizio\"] = round(X_test[\"PPI all'inizio\"]).astype('int64')\n",
    "\n",
    "X_train[\"Antibiotici all'inizio\"] = round(X_train[\"Antibiotici all'inizio\"]).astype('int64')\n",
    "X_test[\"Antibiotici all'inizio\"] = round(X_test[\"Antibiotici all'inizio\"]).astype('int64')\n",
    "\n",
    "X_train['COXi'] = round(X_train['COXi']).astype('int64')\n",
    "X_test['COXi'] = round(X_test['COXi']).astype('int64')"
   ]
  },
  {
   "cell_type": "markdown",
   "id": "d4bb3243",
   "metadata": {},
   "source": [
    "## FEATURE TRANSFORMATION"
   ]
  },
  {
   "cell_type": "code",
   "execution_count": null,
   "id": "388ed7fb",
   "metadata": {},
   "outputs": [],
   "source": [
    "\n",
    "categorical_features_indices = np.where(X_train.dtypes == 'int64')[0]\n",
    "X_train_categorical=X_train.iloc[:,categorical_features_indices]\n",
    "X_test_categorical=X_test.iloc[:,categorical_features_indices]\n",
    "\n",
    "\n",
    "numerical_features_indices = np.where(X_train.dtypes == 'float64')[0]\n",
    "X_train_numerical=X_train.iloc[:,numerical_features_indices]\n",
    "X_test_numerical=X_test.iloc[:,numerical_features_indices]\n"
   ]
  },
  {
   "cell_type": "code",
   "execution_count": null,
   "id": "9c5a2e03",
   "metadata": {},
   "outputs": [],
   "source": [
    "X = X_train_numerical.copy()\n",
    "X.hist(layout=(4,4), figsize=(15,12))"
   ]
  },
  {
   "cell_type": "code",
   "execution_count": null,
   "id": "5d7b4e8a",
   "metadata": {
    "scrolled": false
   },
   "outputs": [],
   "source": [
    "# logNLR is better than normal NLR, it seems more normal\n",
    "x_log = X.copy()\n",
    "\n",
    "for i in X.columns:\n",
    "    x_log['log {c}'.format(c=i)]=X[i].apply(lambda y: math.log(y+1))\n",
    "\n",
    "x_log.hist(layout=(4,6), figsize=(15,12))  \n",
    "\n",
    "\n",
    "# NO LOGARITHMIC TRANSFORMATIONS NEEDED"
   ]
  },
  {
   "cell_type": "code",
   "execution_count": null,
   "id": "d5ce9eca",
   "metadata": {
    "scrolled": false
   },
   "outputs": [],
   "source": [
    "X_train_numerical = X.copy()"
   ]
  },
  {
   "cell_type": "markdown",
   "id": "6d987dbd",
   "metadata": {},
   "source": [
    "### Standardization"
   ]
  },
  {
   "cell_type": "code",
   "execution_count": null,
   "id": "5a5e53db",
   "metadata": {},
   "outputs": [],
   "source": [
    "scaler = StandardScaler()\n",
    "scaler.fit(X_train_numerical)\n",
    "\n",
    "X_tr_scaled = pd.DataFrame(scaler.transform(X_train_numerical))  # scaling on the training set\n",
    "X_tr_scaled.columns=X_train_numerical.columns\n",
    "X_train_categorical.index=X_tr_scaled.index\n",
    "X_train_scaled = pd.concat([X_tr_scaled,X_train_categorical],axis=1)\n",
    "\n",
    "X_t_scaled = pd.DataFrame(scaler.transform(X_test_numerical))\n",
    "X_t_scaled.columns=X_test_numerical.columns\n",
    "X_test_categorical.index=X_t_scaled.index\n",
    "X_test_scaled = pd.concat([X_t_scaled,X_test_categorical],axis=1)"
   ]
  },
  {
   "cell_type": "code",
   "execution_count": null,
   "id": "f35dadaf",
   "metadata": {},
   "outputs": [],
   "source": [
    "y_tr.index = X_train.index\n",
    "y_t.index = X_test.index\n"
   ]
  },
  {
   "cell_type": "code",
   "execution_count": null,
   "id": "cd29edea",
   "metadata": {},
   "outputs": [],
   "source": []
  },
  {
   "cell_type": "code",
   "execution_count": null,
   "id": "c48b120a",
   "metadata": {},
   "outputs": [],
   "source": []
  },
  {
   "cell_type": "code",
   "execution_count": null,
   "id": "65910d3b",
   "metadata": {},
   "outputs": [],
   "source": [
    "# english feature names\n",
    "new_columns = [\n",
    "    'Age',\n",
    "    'BMI',\n",
    "    'Leukocytes at baseline',\n",
    "    'Neutrophils at baseline',\n",
    "    'Lymphocytes at baseline',\n",
    "    'Monocytes at baseline',\n",
    "    'Eosinophils at baseline',\n",
    "    'Platelets at baseline',\n",
    "    'PLR',\n",
    "    'NLR',\n",
    "    'SII',\n",
    "    'Creatinine at baseline',\n",
    "    'ECOG PS',\n",
    "    'Sex',\n",
    "    'Previous BCG treatment',\n",
    "    'Neoadjuvant CHT',\n",
    "    'Cystectomy',\n",
    "    'Histology',\n",
    "    'Metastatic at diagnosis',\n",
    "    '1st line CHT',\n",
    "    'Tot cycles 1st line CHT',\n",
    "    'ORR 1st line CHT',\n",
    "    'Lymph nodes metastases',\n",
    "    'Bone metastases',\n",
    "    'Visceral metastases',\n",
    "    'Liver metastases',\n",
    "    'Lung metastases',\n",
    "    'Steroids',\n",
    "    'PPI',\n",
    "    'Antibiotics',\n",
    "    'COXi'\n",
    "]\n",
    "\n",
    "X_train_scaled.columns = new_columns\n",
    "X_test_scaled.columns = new_columns"
   ]
  },
  {
   "cell_type": "markdown",
   "id": "6d93999c",
   "metadata": {},
   "source": [
    "## -----------------------------------------<br><br>FEATURE CORRELATION "
   ]
  },
  {
   "cell_type": "code",
   "execution_count": null,
   "id": "5c7c8d10",
   "metadata": {
    "scrolled": false
   },
   "outputs": [],
   "source": [
    "\n",
    "plt.figure(figsize=(30, 20))\n",
    "heatmap = sns.heatmap(X_train_scaled.corr(), vmin=-1, vmax=1, fmt='.2f', annot=True, annot_kws={'fontsize': 15})\n",
    "heatmap.set_title('Correlation Heatmap', fontdict={'fontsize':20}, pad=12);\n",
    "path = 'results/classification/ORR/Correlation_matrix.png'\n",
    "heatmap.set_xticklabels(heatmap.get_xmajorticklabels(), fontsize = 20)\n",
    "heatmap.set_yticklabels(heatmap.get_ymajorticklabels(), fontsize = 20)\n",
    "fig = heatmap.get_figure()\n",
    "fig.savefig(path,format='png')\n",
    "\n",
    "cor_matrix = X_train_scaled.corr().abs()\n",
    "\n",
    "upper_tri = cor_matrix.where(np.triu(np.ones(cor_matrix.shape),k=1).astype(bool))\n",
    "\n",
    "to_drop = [column for column in upper_tri.columns if any(upper_tri[column] > 0.80)]\n",
    "print(to_drop)\n",
    "\n",
    "# no features are eliminated after correlation analysis"
   ]
  },
  {
   "cell_type": "code",
   "execution_count": null,
   "id": "718da3d3",
   "metadata": {},
   "outputs": [],
   "source": []
  },
  {
   "cell_type": "code",
   "execution_count": null,
   "id": "1f3b5d6f",
   "metadata": {},
   "outputs": [],
   "source": [
    "# Save the data\n",
    "X_train_scaled.to_csv(\"data/classification/ORR/X_train.csv\")\n",
    "X_test_scaled.to_csv(\"data/classification/ORR/X_test.csv\")\n",
    "\n",
    "y_tr.to_csv(\"data/classification/ORR/y_train.csv\")\n",
    "y_t.to_csv(\"data/classification/ORR/y_test.csv\")\n"
   ]
  },
  {
   "cell_type": "code",
   "execution_count": null,
   "id": "909079e4",
   "metadata": {},
   "outputs": [],
   "source": []
  }
 ],
 "metadata": {
  "kernelspec": {
   "display_name": "Python 3 (ipykernel)",
   "language": "python",
   "name": "python3"
  },
  "language_info": {
   "codemirror_mode": {
    "name": "ipython",
    "version": 3
   },
   "file_extension": ".py",
   "mimetype": "text/x-python",
   "name": "python",
   "nbconvert_exporter": "python",
   "pygments_lexer": "ipython3",
   "version": "3.10.9"
  }
 },
 "nbformat": 4,
 "nbformat_minor": 5
}
