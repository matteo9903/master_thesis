{
 "cells": [
  {
   "cell_type": "code",
   "execution_count": null,
   "id": "68f51f46",
   "metadata": {},
   "outputs": [],
   "source": [
    "# TO USE THIS MODELS UPGRADE SCIKIT LEARN\n",
    "#%pip install scikit-learn --upgrade"
   ]
  },
  {
   "cell_type": "code",
   "execution_count": null,
   "id": "77d3fbb7",
   "metadata": {},
   "outputs": [],
   "source": [
    "import sys\n",
    "import numpy as np\n",
    "import pandas as pd\n",
    "%matplotlib inline\n",
    "import seaborn as sns\n",
    "import matplotlib.pyplot as plt\n",
    "\n",
    "\n",
    "\n",
    "# packages for Survival analyis\n",
    "from sksurv.ensemble import ExtraSurvivalTrees\n",
    "import shap"
   ]
  },
  {
   "cell_type": "code",
   "execution_count": null,
   "id": "b7f21685",
   "metadata": {},
   "outputs": [],
   "source": [
    "X_train=pd.read_csv(\"data/survival/OS/X_train.csv\", index_col=0)\n",
    "X_test=pd.read_csv(\"data/survival/OS/X_test.csv\", index_col=0)\n",
    "\n",
    "y_train=pd.read_csv(\"data/survival/OS/y_train.csv\", index_col=0)\n",
    "y_test=pd.read_csv(\"data/survival/OS/y_test.csv\", index_col=0)\n",
    "\n",
    "y_train['STATUS OS']=y_train['STATUS OS'].astype(bool)\n",
    "y_test['STATUS OS']=y_test['STATUS OS'].astype(bool)\n",
    "\n",
    "y_tr = y_train.to_records(index=False)\n",
    "y_t = y_test.to_records(index=False)\n",
    "\n",
    "path='results/survival/OS/MODELS/EST.pkl'"
   ]
  },
  {
   "cell_type": "markdown",
   "id": "dcaa5920",
   "metadata": {},
   "source": [
    "## EST-EN"
   ]
  },
  {
   "cell_type": "code",
   "execution_count": null,
   "id": "b262d65d",
   "metadata": {},
   "outputs": [],
   "source": [
    "import pickle\n",
    "m1 = pickle.load(open(path, 'rb'))"
   ]
  },
  {
   "cell_type": "code",
   "execution_count": null,
   "id": "2573ac8f",
   "metadata": {},
   "outputs": [],
   "source": [
    "# english names of features\n",
    "new_columns = [\n",
    "    'Age',\n",
    "    'BMI',\n",
    "    'Leukocytes at baseline',\n",
    "    'Neutrophils at baseline',\n",
    "    'Lymphocytes at baseline',\n",
    "    'Monocytes at baseline',\n",
    "    'Eosinophils at baseline',\n",
    "    'Platelets at baseline',\n",
    "    'PLR',\n",
    "    'NLR',\n",
    "    'SII',\n",
    "    'Creatinine at baseline',\n",
    "    'ECOG PS',\n",
    "    'Sex',\n",
    "    'Previous BCG treatment',\n",
    "    'Neoadjuvant CHT',\n",
    "    'Cystectomy',\n",
    "    'Histology',\n",
    "    'Metastatic at diagnosis',\n",
    "    '1st line CHT',\n",
    "    'Tot cycles 1st line CHT',\n",
    "    'ORR 1st line CHT',\n",
    "    'Lymph nodes metastases',\n",
    "    'Bone metastases',\n",
    "    'Visceral metastases',\n",
    "    'Liver metastases',\n",
    "    'Lung metastases',\n",
    "    'Steroids',\n",
    "    'PPI',\n",
    "    'Antibiotics',\n",
    "    'COXi'\n",
    "]\n",
    "\n",
    "X_train.columns = new_columns\n",
    "X_test.columns = new_columns"
   ]
  },
  {
   "cell_type": "code",
   "execution_count": null,
   "id": "a6ece941",
   "metadata": {},
   "outputs": [],
   "source": [
    "feats = ['Age', 'BMI', 'Lymphocytes at baseline', 'Eosinophils at baseline',\n",
    "       'Platelets at baseline', 'NLR', 'SII', 'Creatinine at baseline',\n",
    "       'Previous BCG treatment', 'Cystectomy', 'Histology',\n",
    "       'Metastatic at diagnosis', '1st line CHT (red=carboplatin ; blue=cisplatin)', 'ORR 1st line CHT',\n",
    "       'Bone metastases', 'Visceral metastases', 'Liver metastases',\n",
    "       'Lung metastases', 'PPI']"
   ]
  },
  {
   "cell_type": "code",
   "execution_count": null,
   "id": "25314950",
   "metadata": {},
   "outputs": [],
   "source": [
    "X_tr = X_train.loc[:,m1.feature_names_in_].copy()\n",
    "X_t = X_test.loc[:,m1.feature_names_in_].copy()"
   ]
  },
  {
   "cell_type": "code",
   "execution_count": null,
   "id": "43501908",
   "metadata": {},
   "outputs": [],
   "source": [
    "explainer = shap.Explainer(m1.predict,X_tr)\n",
    "shap_values = explainer(X_t)\n",
    "\n",
    "plt.figure(figsize=(30, 10))\n",
    "shap.summary_plot(shap_values, max_display=X_tr.shape[1], show=False, feature_names=feats)\n",
    "plt.savefig('results/survival/OS/SHAP AND CURVES/SHAP_OS_MALVA.png',format='png', bbox_inches = 'tight')"
   ]
  },
  {
   "cell_type": "code",
   "execution_count": null,
   "id": "95feb8dd",
   "metadata": {},
   "outputs": [],
   "source": []
  },
  {
   "cell_type": "code",
   "execution_count": null,
   "id": "41431996",
   "metadata": {},
   "outputs": [],
   "source": []
  }
 ],
 "metadata": {
  "kernelspec": {
   "display_name": "Python 3 (ipykernel)",
   "language": "python",
   "name": "python3"
  },
  "language_info": {
   "codemirror_mode": {
    "name": "ipython",
    "version": 3
   },
   "file_extension": ".py",
   "mimetype": "text/x-python",
   "name": "python",
   "nbconvert_exporter": "python",
   "pygments_lexer": "ipython3",
   "version": "3.10.9"
  }
 },
 "nbformat": 4,
 "nbformat_minor": 5
}
